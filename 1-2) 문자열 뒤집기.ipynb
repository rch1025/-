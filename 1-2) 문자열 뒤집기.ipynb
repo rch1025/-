{
 "cells": [
  {
   "cell_type": "markdown",
   "id": "3ea4d9f8",
   "metadata": {},
   "source": [
    "### 1. 투 포인터를 이용한 스왑"
   ]
  },
  {
   "cell_type": "code",
   "execution_count": 21,
   "id": "2bde2533",
   "metadata": {},
   "outputs": [],
   "source": [
    "s = [\"h\",\"e\",\"l\",\"l\",\"o\"]"
   ]
  },
  {
   "cell_type": "code",
   "execution_count": 22,
   "id": "d9aa58fd",
   "metadata": {},
   "outputs": [],
   "source": [
    "def reverseString(s):\n",
    "    left, right = 0, len(s)-1\n",
    "    while left<right:\n",
    "        s[left], s[right] = s[right], s[left]\n",
    "        left += 1\n",
    "        right -= 1\n",
    "    return s    "
   ]
  },
  {
   "cell_type": "code",
   "execution_count": 23,
   "id": "8d87f646",
   "metadata": {},
   "outputs": [
    {
     "data": {
      "text/plain": [
       "['o', 'l', 'l', 'e', 'h']"
      ]
     },
     "execution_count": 23,
     "metadata": {},
     "output_type": "execute_result"
    }
   ],
   "source": [
    "reverseString(s)"
   ]
  },
  {
   "cell_type": "markdown",
   "id": "501d84c2",
   "metadata": {},
   "source": [
    "-------"
   ]
  },
  {
   "cell_type": "markdown",
   "id": "074aafaf",
   "metadata": {},
   "source": [
    "### 2. 파이썬다운 방식\n",
    "- .reverse()는 리스트에만 제공된다. \n",
    "- 입력값이 문자열이라면 문자열 슬라이싱을 사용해서 하면 된다."
   ]
  },
  {
   "cell_type": "code",
   "execution_count": 25,
   "id": "c82fc0c2",
   "metadata": {},
   "outputs": [],
   "source": [
    "def reverseString(s):\n",
    "    s.reverse() # s[:] = s[::-1]도 가능\n",
    "    return s"
   ]
  },
  {
   "cell_type": "code",
   "execution_count": null,
   "id": "11feab74",
   "metadata": {},
   "outputs": [],
   "source": [
    "s = [\"h\",\"e\",\"l\",\"l\",\"o\"]\n",
    "reverseString(s)"
   ]
  },
  {
   "cell_type": "markdown",
   "id": "cecf1c41",
   "metadata": {},
   "source": [
    "- s = s[::-1]과 같은 변수 할당이 처리되지 않을 때가 있다. 이러한 경우는 s[:] = s[::-1]과 같이 처리하면 된다."
   ]
  },
  {
   "cell_type": "markdown",
   "id": "3012db68",
   "metadata": {},
   "source": [
    "-----"
   ]
  },
  {
   "cell_type": "markdown",
   "id": "64d3283a",
   "metadata": {},
   "source": []
  }
 ],
 "metadata": {
  "kernelspec": {
   "display_name": "torch-gpu",
   "language": "python",
   "name": "torch-gpu"
  },
  "language_info": {
   "codemirror_mode": {
    "name": "ipython",
    "version": 3
   },
   "file_extension": ".py",
   "mimetype": "text/x-python",
   "name": "python",
   "nbconvert_exporter": "python",
   "pygments_lexer": "ipython3",
   "version": "3.7.11"
  }
 },
 "nbformat": 4,
 "nbformat_minor": 5
}
