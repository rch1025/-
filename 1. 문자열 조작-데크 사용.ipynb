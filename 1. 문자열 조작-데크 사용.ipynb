{
 "cells": [
  {
   "cell_type": "markdown",
   "id": "bf4dd54d",
   "metadata": {},
   "source": [
    "### 1번 유효한 팰린드롬"
   ]
  },
  {
   "cell_type": "markdown",
   "id": "26ed4eba",
   "metadata": {},
   "source": [
    "#### 데크 자료형을 이용한 최적화\n",
    "#### `데크란?`\n",
    "    : Deque라는 것은 파이썬의 list와 같이 요소들을 한 곳에 담아두는 배열\n",
    "    - 파이썬에서 큐 queue는 First In First Out(FIFO)의 방식으로 작동 \n",
    "    - 덱(데큐)는 큐는 큐이지만 양방향인 queue이다. 양 쪽 방향 모두에서 (앞, 뒤) 요소를 추가/제거할 수 있다.\n",
    "#### `데크의 사용 이유`\n",
    "    - List 보다 deque의 속도가 훨씬 빠르다.\n",
    "    - List는 O(n)의 속도, deque는 O(1)의 속도를 가진다. (빅오 표기법으로 나타낸 것)\n",
    "    - Deque는 스택(stack)으로도, Queue(큐)로도 사용할 수 있다.\n",
    "    - *따라서 Deque는 성능이 좋고 편리한 List-Like 메서드라고 할 수 있다.*\n",
    "#### `데크에 존재하는 메서드`\n",
    "    - deque.append(item): item을 데크의 오른쪽 끝에 삽입한다.\n",
    "    - deque.appendleft(item): item을 데크의 왼쪽 끝에 삽입한다.\n",
    "    - deque.pop(): 데크의 오른쪽 끝 엘리먼트를 가져오는 동시에 데크에서 삭제한다.\n",
    "    - deque.popleft(): 데크의 왼쪽 끝 엘리먼트를 가져오는 동시에 데크에서 삭제한다.\n",
    "    - deque.extend(array): 주어진 배열(array)을 순환하면서 데크의 오른쪽에 추가한다.\n",
    "    - deque.extendleft(array): 주어진 배열(array)을 순환하면서 데크의 왼쪽에 추가한다.\n",
    "    - deque.remove(item): item을 데크에서 찾아 삭제한다.\n",
    "    - deque.rotate(num): 데크를 num만큼 회전한다(양수면 오른쪽, 음수면 왼쪽)."
   ]
  },
  {
   "cell_type": "code",
   "execution_count": 1,
   "id": "4cfe23c9",
   "metadata": {},
   "outputs": [
    {
     "name": "stdout",
     "output_type": "stream",
     "text": [
      "deque([])\n"
     ]
    }
   ],
   "source": [
    "\"\"\"데크 사용하기\"\"\"\n",
    "from collections import deque\n",
    "a = deque()\n",
    "print(a)"
   ]
  },
  {
   "cell_type": "markdown",
   "id": "ca919759",
   "metadata": {},
   "source": [
    "----------"
   ]
  },
  {
   "cell_type": "code",
   "execution_count": 2,
   "id": "c9ca8d4d",
   "metadata": {},
   "outputs": [],
   "source": [
    "\"\"\"Deque를 사용한 팰린드롬 문제 풀기\"\"\"\n",
    "import time\n",
    "import collections\n",
    "\n",
    "class Solution:\n",
    "    def isPalindrome(self, s: str) -> bool:\n",
    "        # 자료형 데크 선언 \n",
    "        strs: Deque = collections.deque()\n",
    "        for char in s:\n",
    "            if char.isalnum():\n",
    "                strs.append(char.lower())\n",
    "        while len(strs)>1:\n",
    "            if strs.popleft()!=strs.pop():\n",
    "                return False\n",
    "        return True"
   ]
  },
  {
   "cell_type": "code",
   "execution_count": 3,
   "id": "c5ea49ec",
   "metadata": {},
   "outputs": [],
   "source": [
    "s1 = \"A man, a plan, a canal: Panama\"\n",
    "s2 = \"race a car\"\n",
    "s3 = \" \""
   ]
  },
  {
   "cell_type": "code",
   "execution_count": 4,
   "id": "218a3f09",
   "metadata": {},
   "outputs": [
    {
     "name": "stdout",
     "output_type": "stream",
     "text": [
      "1655864886.5466833\n"
     ]
    },
    {
     "data": {
      "text/plain": [
       "True"
      ]
     },
     "execution_count": 4,
     "metadata": {},
     "output_type": "execute_result"
    }
   ],
   "source": [
    "code = Solution()\n",
    "start = time.time()\n",
    "print(start)\n",
    "code.isPalindrome(s1)"
   ]
  },
  {
   "cell_type": "code",
   "execution_count": 5,
   "id": "47d82927",
   "metadata": {},
   "outputs": [
    {
     "data": {
      "text/plain": [
       "False"
      ]
     },
     "execution_count": 5,
     "metadata": {},
     "output_type": "execute_result"
    }
   ],
   "source": [
    "code.isPalindrome(s2)"
   ]
  },
  {
   "cell_type": "code",
   "execution_count": 6,
   "id": "e22dcd4f",
   "metadata": {},
   "outputs": [
    {
     "data": {
      "text/plain": [
       "True"
      ]
     },
     "execution_count": 6,
     "metadata": {},
     "output_type": "execute_result"
    }
   ],
   "source": [
    "code.isPalindrome(s3)"
   ]
  },
  {
   "cell_type": "code",
   "execution_count": 11,
   "id": "9502461c",
   "metadata": {},
   "outputs": [
    {
     "data": {
      "text/plain": [
       "1655864980.945872"
      ]
     },
     "execution_count": 11,
     "metadata": {},
     "output_type": "execute_result"
    }
   ],
   "source": [
    "time.time()"
   ]
  },
  {
   "cell_type": "code",
   "execution_count": 12,
   "id": "403e7b30",
   "metadata": {},
   "outputs": [
    {
     "data": {
      "text/plain": [
       "1655864981.0487804"
      ]
     },
     "execution_count": 12,
     "metadata": {},
     "output_type": "execute_result"
    }
   ],
   "source": [
    "time.time()"
   ]
  },
  {
   "cell_type": "code",
   "execution_count": 13,
   "id": "3a2f891c",
   "metadata": {},
   "outputs": [
    {
     "name": "stdout",
     "output_type": "stream",
     "text": [
      "1655864998.9417908\n",
      "0.0009975433349609375\n"
     ]
    }
   ],
   "source": [
    "\"\"\"코드 실행 시간 확인\"\"\"\n",
    "s1 = \"A man, a plan, a canal: Panama\"\n",
    "s2 = \"race a car\"\n",
    "s3 = \" \"\n",
    "\n",
    "code = Solution()\n",
    "## 실행 시간 측정\n",
    "start = time.time()\n",
    "print(start)\n",
    "code.isPalindrome(s1)\n",
    "code.isPalindrome(s2)\n",
    "code.isPalindrome(s3)\n",
    "print(time.time()-start)"
   ]
  },
  {
   "cell_type": "markdown",
   "id": "e04bed7d",
   "metadata": {},
   "source": [
    "#### 데크를 사용할 경우, 리스트를 사용한 경우보다 5배 가까이 더 속도를 높일 수 있다. 위의 경우 예시가 2개 밖에 되지 않아서 차이가 크지 않을 수 있으나 input을 여러 개로 해서 테스트를 해보면 차이가 확연하게 나타난다.\n",
    "- 리스트의 pop(0) : $O(n)$\n",
    "- 데크의 popleft() : $O(1)$\n",
    "<br/> \n",
    "위 경우들에 대해서 각각  n번씩 반복 구현한다고 하면 리스트는 $O(n^2)$이고, 데크는 $O(n)$이 된다."
   ]
  }
 ],
 "metadata": {
  "kernelspec": {
   "display_name": "torch-gpu",
   "language": "python",
   "name": "torch-gpu"
  },
  "language_info": {
   "codemirror_mode": {
    "name": "ipython",
    "version": 3
   },
   "file_extension": ".py",
   "mimetype": "text/x-python",
   "name": "python",
   "nbconvert_exporter": "python",
   "pygments_lexer": "ipython3",
   "version": "3.7.11"
  }
 },
 "nbformat": 4,
 "nbformat_minor": 5
}
