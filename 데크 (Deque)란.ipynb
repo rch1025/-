{
 "cells": [
  {
   "cell_type": "markdown",
   "id": "49934b6b",
   "metadata": {
    "toc": true
   },
   "source": [
    "<h1>Table of Contents<span class=\"tocSkip\"></span></h1>\n",
    "<div class=\"toc\"><ul class=\"toc-item\"><li><span><a href=\"#힙-(heap)에-원소-추가-(heappush)\" data-toc-modified-id=\"힙-(heap)에-원소-추가-(heappush)-1\"><span class=\"toc-item-num\">1&nbsp;&nbsp;</span>힙 (heap)에 원소 추가 (heappush)</a></span></li><li><span><a href=\"#힙에서-원소-삭제-(heappop)\" data-toc-modified-id=\"힙에서-원소-삭제-(heappop)-2\"><span class=\"toc-item-num\">2&nbsp;&nbsp;</span>힙에서 원소 삭제 (heappop)</a></span></li><li><span><a href=\"#가장-작은-인덱스에-접근\" data-toc-modified-id=\"가장-작은-인덱스에-접근-3\"><span class=\"toc-item-num\">3&nbsp;&nbsp;</span>가장 작은 인덱스에 접근</a></span></li><li><span><a href=\"#기존-리스트를-힙으로-변환-(heapify)\" data-toc-modified-id=\"기존-리스트를-힙으로-변환-(heapify)-4\"><span class=\"toc-item-num\">4&nbsp;&nbsp;</span>기존 리스트를 힙으로 변환 (heapify)</a></span></li><li><span><a href=\"#최대-힙\" data-toc-modified-id=\"최대-힙-5\"><span class=\"toc-item-num\">5&nbsp;&nbsp;</span>최대 힙</a></span></li><li><span><a href=\"#힙에서-가장-작은-n개의-값을-담은-리스트-반환\" data-toc-modified-id=\"힙에서-가장-작은-n개의-값을-담은-리스트-반환-6\"><span class=\"toc-item-num\">6&nbsp;&nbsp;</span>힙에서 가장 작은 n개의 값을 담은 리스트 반환</a></span></li></ul></div>"
   ]
  },
  {
   "cell_type": "markdown",
   "id": "ac2f8d40",
   "metadata": {},
   "source": [
    "# 힙 (heap)에 원소 추가 (heappush)"
   ]
  },
  {
   "cell_type": "code",
   "execution_count": 13,
   "id": "e6228c1b",
   "metadata": {},
   "outputs": [
    {
     "name": "stdout",
     "output_type": "stream",
     "text": [
      "[1, 3, 7, 4]\n"
     ]
    }
   ],
   "source": [
    "from heapq import heappush\n",
    "heap = []\n",
    "\n",
    "## 파이썬 리스트가 정렬된 상태로 나온다.\n",
    "heappush(heap, 4)\n",
    "heappush(heap, 1)\n",
    "heappush(heap, 7)\n",
    "heappush(heap, 3)\n",
    "print(heap)"
   ]
  },
  {
   "cell_type": "markdown",
   "id": "bf776b7f",
   "metadata": {},
   "source": [
    "# 힙에서 원소 삭제 (heappop)\n",
    "- 가장 작은 원소를 삭제함"
   ]
  },
  {
   "cell_type": "code",
   "execution_count": 11,
   "id": "e70f27d8",
   "metadata": {},
   "outputs": [
    {
     "name": "stdout",
     "output_type": "stream",
     "text": [
      "## heap: [1, 3, 7, 4]\n",
      "## heappop:  1\n",
      "## heap: [3, 4, 7]\n"
     ]
    }
   ],
   "source": [
    "from heapq import heappop\n",
    "\n",
    "print('## heap:', heap)\n",
    "print('## heappop: ',heappop(heap)) # 가장 작은 원소를 삭제한 후에 그 값을 리턴한다.\n",
    "print('## heap:', heap)"
   ]
  },
  {
   "cell_type": "code",
   "execution_count": 12,
   "id": "eed1a6dd",
   "metadata": {},
   "outputs": [
    {
     "name": "stdout",
     "output_type": "stream",
     "text": [
      "## heap: [3, 4, 7]\n",
      "## heappop:  3\n",
      "## heap: [4, 7]\n"
     ]
    }
   ],
   "source": [
    "print('## heap:', heap)\n",
    "print('## heappop: ',heappop(heap)) # 가장 작은 원소를 삭제한 후에 그 값을 리턴한다.\n",
    "print('## heap:', heap)"
   ]
  },
  {
   "cell_type": "markdown",
   "id": "04a00ee6",
   "metadata": {},
   "source": [
    "# 가장 작은 인덱스에 접근\n",
    "- 주의사항은 인덱스 0에 가장 작은 원소가 있다고 해서, 인덱스 1에 두번째 작은 원소, 인덱스 2에 세번째 작은 원소가 있다는 보장은 없다\n",
    "- 힙은 heappop() 함수를 호출하여 원소를 삭제할 때마다 이진 트리의 재배치를 통해 매번 새로운 최소값을 인덱스 0에 위치시키기 때문\n",
    "- 따라서 두 번째로 작은 원소를 얻으려면 바로 heap[1]로 접근하지 말고, heappop()을 통해 가장 작은 원소를 삭제한 후에 heap[0]을 통해 새로운 최소값에 접근해야 한다."
   ]
  },
  {
   "cell_type": "code",
   "execution_count": 14,
   "id": "19461e87",
   "metadata": {},
   "outputs": [
    {
     "name": "stdout",
     "output_type": "stream",
     "text": [
      "[1, 4, 3, 7]\n"
     ]
    }
   ],
   "source": [
    "from heapq import heappush\n",
    "heap = []\n",
    "\n",
    "## 파이썬 리스트가 정렬된 상태로 나온다.\n",
    "for idx in [4,1,3,7]:\n",
    "    heappush(heap, idx)\n",
    "print(heap)"
   ]
  },
  {
   "cell_type": "code",
   "execution_count": null,
   "id": "578b3291",
   "metadata": {},
   "outputs": [],
   "source": [
    "heap[1]"
   ]
  },
  {
   "cell_type": "markdown",
   "id": "c72d3174",
   "metadata": {},
   "source": [
    "# 기존 리스트를 힙으로 변환 (heapify)\n",
    "- heapify() 함수를 사용할 때 주의할 점은 새로운 리스트를 반환하는 것이 아니라 인자로 넘긴 리스트에 직접 변경한다는 것\n",
    "- 따라서 원본 리스트의 형태를 보존해야 하는 경우에는 반드시 해당 리스트를 복제한 후에 인자로 넘겨야 한다."
   ]
  },
  {
   "cell_type": "code",
   "execution_count": 16,
   "id": "ffa66f8b",
   "metadata": {},
   "outputs": [
    {
     "name": "stdout",
     "output_type": "stream",
     "text": [
      "[1, 3, 5, 4, 8, 7]\n"
     ]
    }
   ],
   "source": [
    "from heapq import heapify\n",
    "\n",
    "heap = [4, 1, 7, 3, 8, 5]\n",
    "heapify(heap)\n",
    "print(heap)"
   ]
  },
  {
   "cell_type": "markdown",
   "id": "f74a2c04",
   "metadata": {},
   "source": [
    "# 최대 힙\n",
    "- 최소 힙(min heap)을 기능만을 동작하기 때문에 최대 힙(max heap)으로 활용하려면 약간의 요령이 필요\n",
    "- 최대 힙을 만들려면 각 값에 대한 우선 순위를 구한 후, (우선 순위, 값) 구조의 튜플(tuple)을 힙에 추가하거나 삭제\n",
    "- 그리고 힙에서 값을 읽어올 때는 각 튜플에서 인덱스 1에 있는 값을 취하면 된다."
   ]
  },
  {
   "cell_type": "code",
   "execution_count": 19,
   "id": "921a0af6",
   "metadata": {},
   "outputs": [
    {
     "name": "stdout",
     "output_type": "stream",
     "text": [
      "[(-8, 8), (-7, 7), (-5, 5), (-1, 1), (-3, 3), (-4, 4)]\n"
     ]
    }
   ],
   "source": [
    "from heapq import heappush, heappop\n",
    "\n",
    "nums = [4, 1, 7, 3, 8, 5]\n",
    "heap = []\n",
    "\n",
    "for num in nums:\n",
    "  heappush(heap, (-num, num))  # (우선 순위, 값)\n",
    "print(heap)"
   ]
  },
  {
   "cell_type": "code",
   "execution_count": 20,
   "id": "ec35d784",
   "metadata": {},
   "outputs": [
    {
     "name": "stdout",
     "output_type": "stream",
     "text": [
      "8\n",
      "7\n",
      "5\n",
      "4\n",
      "3\n",
      "1\n"
     ]
    }
   ],
   "source": [
    "while heap:\n",
    "  print(heappop(heap)[1])  # index 1"
   ]
  },
  {
   "cell_type": "markdown",
   "id": "11ed366b",
   "metadata": {},
   "source": [
    "# 힙에서 가장 작은 n개의 값을 담은 리스트 반환"
   ]
  },
  {
   "cell_type": "code",
   "execution_count": 22,
   "id": "0805c3c3",
   "metadata": {},
   "outputs": [
    {
     "data": {
      "text/plain": [
       "[1, 3, 4]"
      ]
     },
     "execution_count": 22,
     "metadata": {},
     "output_type": "execute_result"
    }
   ],
   "source": [
    "from heapq import nsmallest\n",
    "\n",
    "nsmallest(3, [4, 1, 7, 3, 8, 5])"
   ]
  },
  {
   "cell_type": "code",
   "execution_count": 23,
   "id": "e1c7f4ac",
   "metadata": {},
   "outputs": [
    {
     "data": {
      "text/plain": [
       "5"
      ]
     },
     "execution_count": 23,
     "metadata": {},
     "output_type": "execute_result"
    }
   ],
   "source": [
    "from heapq import nlargest\n",
    "\n",
    "nlargest(3, [4, 1, 7, 3, 8, 5])[-1]"
   ]
  }
 ],
 "metadata": {
  "kernelspec": {
   "display_name": "torch-gpu",
   "language": "python",
   "name": "torch-gpu"
  },
  "language_info": {
   "codemirror_mode": {
    "name": "ipython",
    "version": 3
   },
   "file_extension": ".py",
   "mimetype": "text/x-python",
   "name": "python",
   "nbconvert_exporter": "python",
   "pygments_lexer": "ipython3",
   "version": "3.7.11"
  },
  "toc": {
   "base_numbering": 1,
   "nav_menu": {},
   "number_sections": true,
   "sideBar": true,
   "skip_h1_title": false,
   "title_cell": "Table of Contents",
   "title_sidebar": "Contents",
   "toc_cell": true,
   "toc_position": {},
   "toc_section_display": true,
   "toc_window_display": false
  }
 },
 "nbformat": 4,
 "nbformat_minor": 5
}
