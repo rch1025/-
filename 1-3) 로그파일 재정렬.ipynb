{
 "cells": [
  {
   "cell_type": "markdown",
   "id": "b814f780",
   "metadata": {},
   "source": [
    "### [로그 재정렬 기준]\n",
    "1. 로그의 가장 앞 부분은 식별자다.\n",
    "2. 문자로 구성된 로그가 숫자 로그보다 앞에 온다.\n",
    "3. 식별자는 순서에 영향을 끼치지 않지만, 문자가 동일할 경우 식별자 순으로 한다.\n",
    "4. 숫자 로그는 입력 순서대로 한다."
   ]
  },
  {
   "cell_type": "markdown",
   "id": "2fd37da7",
   "metadata": {},
   "source": [
    "#### 1. 람다와 연산자를 이용\n",
    "- 문자로 구성된 로그가 숫자 로그보다 이전에 오며, 숫자 로그는 입력 순서대로 둔다. \n",
    "- 문자와 숫자를 구분하고, 숫자는 나중에 그대로 이어 붙인다.\n",
    "- 로그 자체는 숫자 로그도 모두 문자열로 지정되어 있으므로 타입을 확인하면 모두 문자로 출력된다.\n",
    "- 따라서 다음과 같이 isdigit()을 이용해서 숫자 여부인지를 판별해 구분해본다."
   ]
  },
  {
   "cell_type": "code",
   "execution_count": 41,
   "id": "be5fda10",
   "metadata": {},
   "outputs": [],
   "source": [
    "logs = [\"dig1 8 1 5 1\",\"let1 art can\",\"dig2 3 6\",\"let2 own kit dig\",\"let3 art zero\"]"
   ]
  },
  {
   "cell_type": "code",
   "execution_count": 44,
   "id": "bf19acf8",
   "metadata": {},
   "outputs": [],
   "source": [
    "\"\"\"이 경우 숫자로 변환 가능한 로그는 digits에 그렇지 않은 경우 문자 로그는 letters에 추가된다. \"\"\"\n",
    "def reorderLogFiles(s):\n",
    "    letters, digits = [], []\n",
    "    for log in logs:\n",
    "        ## 숫자 여부인지 확인\n",
    "        if log.split()[1].isdigit():\n",
    "            digits.append(log)\n",
    "        else:\n",
    "            letters.append(log)\n",
    "        \n",
    "    ## 2개의 key를 lambda를 사용하여 정려\n",
    "    letters.sort(key = lambda x: (x.split()[1:], x.split()[0]))\n",
    "    return letters + digits"
   ]
  },
  {
   "cell_type": "code",
   "execution_count": 45,
   "id": "4158366d",
   "metadata": {},
   "outputs": [
    {
     "data": {
      "text/plain": [
       "['let1 art can',\n",
       " 'let3 art zero',\n",
       " 'let2 own kit dig',\n",
       " 'dig1 8 1 5 1',\n",
       " 'dig2 3 6']"
      ]
     },
     "execution_count": 45,
     "metadata": {},
     "output_type": "execute_result"
    }
   ],
   "source": [
    "reorderLogFiles(logs)"
   ]
  },
  {
   "cell_type": "code",
   "execution_count": 35,
   "id": "e85feafb",
   "metadata": {},
   "outputs": [
    {
     "data": {
      "text/plain": [
       "['let1 art can', 'let2 own kit dig', 'let3 art zero']"
      ]
     },
     "execution_count": 35,
     "metadata": {},
     "output_type": "execute_result"
    }
   ],
   "source": [
    "## 원본 lettters\n",
    "letters"
   ]
  },
  {
   "cell_type": "code",
   "execution_count": 36,
   "id": "6d78442d",
   "metadata": {},
   "outputs": [
    {
     "data": {
      "text/plain": [
       "['art', 'can']"
      ]
     },
     "execution_count": 36,
     "metadata": {},
     "output_type": "execute_result"
    }
   ],
   "source": [
    "## letters 분할\n",
    "letters[0].split()[1:] # 1번째 sorting key"
   ]
  },
  {
   "cell_type": "code",
   "execution_count": 37,
   "id": "1a602923",
   "metadata": {},
   "outputs": [
    {
     "data": {
      "text/plain": [
       "'let1'"
      ]
     },
     "execution_count": 37,
     "metadata": {},
     "output_type": "execute_result"
    }
   ],
   "source": [
    "letters[0].split()[0] # 2번째 sorting key"
   ]
  },
  {
   "cell_type": "code",
   "execution_count": 23,
   "id": "51c2bf96",
   "metadata": {},
   "outputs": [
    {
     "data": {
      "text/plain": [
       "['let1 art can', 'let3 art zero', 'let2 own kit dig']"
      ]
     },
     "execution_count": 23,
     "metadata": {},
     "output_type": "execute_result"
    }
   ],
   "source": [
    "\"\"\"문자 로그가 letters에 모두 모였으니 이제 이를 정렬한다.\"\"\"\n",
    "## 리스트 각 값의 1번 이후 값이 첫 번째 기준이 되고, 0번째 값이 두 번째 기준이 된다.\n",
    "letters.sort(key = lambda x: (x.split()[1:], x.split()[0]))\n",
    "letters"
   ]
  },
  {
   "cell_type": "code",
   "execution_count": 39,
   "id": "d27c6165",
   "metadata": {},
   "outputs": [
    {
     "data": {
      "text/plain": [
       "['let3 art zero', 'let2 own kit dig', 'let1 art can']"
      ]
     },
     "execution_count": 39,
     "metadata": {},
     "output_type": "execute_result"
    }
   ],
   "source": [
    "\"\"\"sort key 예시\"\"\"\n",
    "## 리스트 각 값의 2번째 값 기준으로 정렬 - zero, kit, can\n",
    "letters.sort(key = lambda x: x.split()[2], reverse=True)\n",
    "letters"
   ]
  }
 ],
 "metadata": {
  "kernelspec": {
   "display_name": "torch-gpu",
   "language": "python",
   "name": "torch-gpu"
  },
  "language_info": {
   "codemirror_mode": {
    "name": "ipython",
    "version": 3
   },
   "file_extension": ".py",
   "mimetype": "text/x-python",
   "name": "python",
   "nbconvert_exporter": "python",
   "pygments_lexer": "ipython3",
   "version": "3.7.11"
  }
 },
 "nbformat": 4,
 "nbformat_minor": 5
}
