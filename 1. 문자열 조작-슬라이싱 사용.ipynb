{
 "cells": [
  {
   "cell_type": "markdown",
   "id": "bf4dd54d",
   "metadata": {},
   "source": [
    "### 1번 유효한 팰린드롬"
   ]
  },
  {
   "cell_type": "code",
   "execution_count": 1,
   "id": "9e9d5dec",
   "metadata": {},
   "outputs": [],
   "source": [
    "import time\n",
    "import re"
   ]
  },
  {
   "cell_type": "code",
   "execution_count": 2,
   "id": "c9ca8d4d",
   "metadata": {},
   "outputs": [],
   "source": [
    "class Solution:\n",
    "    def isPalindrome(self, s: str) -> bool:\n",
    "        s = s.lower()\n",
    "        \n",
    "        # 정규식으로 불필요한 문자 필터링->문자열 전체에서 한 번에 영숫자만 걸러내도록 함\n",
    "        s = re.sub('[^a-z0-9]', '', s)\n",
    "        print(s)\n",
    "        \n",
    "        ## [::-1]을 통해 문자열 뒤집기\n",
    "        return s == s[::-1] # 슬라이싱"
   ]
  },
  {
   "cell_type": "code",
   "execution_count": 3,
   "id": "c5ea49ec",
   "metadata": {},
   "outputs": [],
   "source": [
    "s1 = \"A man, a plan, a canal: Panama\"\n",
    "s2 = \"race a car\"\n",
    "s3 = \" \""
   ]
  },
  {
   "cell_type": "code",
   "execution_count": 4,
   "id": "218a3f09",
   "metadata": {},
   "outputs": [
    {
     "name": "stdout",
     "output_type": "stream",
     "text": [
      "1655948547.159931\n",
      "amanaplanacanalpanama\n"
     ]
    },
    {
     "data": {
      "text/plain": [
       "True"
      ]
     },
     "execution_count": 4,
     "metadata": {},
     "output_type": "execute_result"
    }
   ],
   "source": [
    "code = Solution()\n",
    "start = time.time()\n",
    "print(start)\n",
    "code.isPalindrome(s1)"
   ]
  },
  {
   "cell_type": "code",
   "execution_count": 5,
   "id": "47d82927",
   "metadata": {},
   "outputs": [
    {
     "name": "stdout",
     "output_type": "stream",
     "text": [
      "raceacar\n"
     ]
    },
    {
     "data": {
      "text/plain": [
       "False"
      ]
     },
     "execution_count": 5,
     "metadata": {},
     "output_type": "execute_result"
    }
   ],
   "source": [
    "code.isPalindrome(s2)"
   ]
  },
  {
   "cell_type": "code",
   "execution_count": 6,
   "id": "e22dcd4f",
   "metadata": {},
   "outputs": [
    {
     "name": "stdout",
     "output_type": "stream",
     "text": [
      "\n"
     ]
    },
    {
     "data": {
      "text/plain": [
       "True"
      ]
     },
     "execution_count": 6,
     "metadata": {},
     "output_type": "execute_result"
    }
   ],
   "source": [
    "code.isPalindrome(s3)"
   ]
  },
  {
   "cell_type": "code",
   "execution_count": 7,
   "id": "9502461c",
   "metadata": {},
   "outputs": [
    {
     "data": {
      "text/plain": [
       "1655948547.2198327"
      ]
     },
     "execution_count": 7,
     "metadata": {},
     "output_type": "execute_result"
    }
   ],
   "source": [
    "time.time()"
   ]
  },
  {
   "cell_type": "code",
   "execution_count": 8,
   "id": "403e7b30",
   "metadata": {},
   "outputs": [
    {
     "data": {
      "text/plain": [
       "1655948547.237008"
      ]
     },
     "execution_count": 8,
     "metadata": {},
     "output_type": "execute_result"
    }
   ],
   "source": [
    "time.time()"
   ]
  },
  {
   "cell_type": "code",
   "execution_count": 9,
   "id": "3a2f891c",
   "metadata": {},
   "outputs": [
    {
     "name": "stdout",
     "output_type": "stream",
     "text": [
      "1655948547.2535381\n",
      "amanaplanacanalpanama\n",
      "raceacar\n",
      "\n",
      "0.0\n"
     ]
    }
   ],
   "source": [
    "\"\"\"코드 실행 시간 확인\"\"\"\n",
    "s1 = \"A man, a plan, a canal: Panama\"\n",
    "s2 = \"race a car\"\n",
    "s3 = \" \"\n",
    "\n",
    "code = Solution()\n",
    "## 실행 시간 측정\n",
    "start = time.time()\n",
    "print(start)\n",
    "code.isPalindrome(s1)\n",
    "code.isPalindrome(s2)\n",
    "code.isPalindrome(s3)\n",
    "print(time.time()-start)"
   ]
  },
  {
   "cell_type": "markdown",
   "id": "e04bed7d",
   "metadata": {},
   "source": [
    "#### 슬라이싱을 사용할 경우 데크를 사용할 때 보다 2배 정도 속도를 높일 수 있다."
   ]
  }
 ],
 "metadata": {
  "kernelspec": {
   "display_name": "torch-gpu",
   "language": "python",
   "name": "torch-gpu"
  },
  "language_info": {
   "codemirror_mode": {
    "name": "ipython",
    "version": 3
   },
   "file_extension": ".py",
   "mimetype": "text/x-python",
   "name": "python",
   "nbconvert_exporter": "python",
   "pygments_lexer": "ipython3",
   "version": "3.7.11"
  }
 },
 "nbformat": 4,
 "nbformat_minor": 5
}
