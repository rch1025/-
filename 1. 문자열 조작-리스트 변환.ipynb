{
 "cells": [
  {
   "cell_type": "markdown",
   "id": "21431b38",
   "metadata": {},
   "source": [
    "### 1번 유효한 팰린드롬"
   ]
  },
  {
   "cell_type": "markdown",
   "id": "dcea2aac",
   "metadata": {},
   "source": [
    "#### 리스트 변환을 통한 풀이"
   ]
  },
  {
   "cell_type": "code",
   "execution_count": 1,
   "id": "99b8ea54",
   "metadata": {},
   "outputs": [],
   "source": [
    "import time"
   ]
  },
  {
   "cell_type": "code",
   "execution_count": 2,
   "id": "7a886a89",
   "metadata": {},
   "outputs": [],
   "source": [
    "class Solution:\n",
    "    def isPalindrome(self, s: str) -> bool:\n",
    "        str_list = []\n",
    "        for char in s:\n",
    "            if char.isalnum():\n",
    "                str_list.append(char.lower())\n",
    "        while len(str_list) > 1:\n",
    "            if str_list.pop(0) != str_list.pop():\n",
    "                return False\n",
    "        return True"
   ]
  },
  {
   "cell_type": "code",
   "execution_count": 3,
   "id": "eacd550f",
   "metadata": {},
   "outputs": [],
   "source": [
    "s1 = \"A man, a plan, a canal: Panama\"\n",
    "s2 = \"race a car\"\n",
    "s3 = \" \""
   ]
  },
  {
   "cell_type": "code",
   "execution_count": 4,
   "id": "c58ba55a",
   "metadata": {},
   "outputs": [
    {
     "name": "stdout",
     "output_type": "stream",
     "text": [
      "1655864838.0541334\n"
     ]
    },
    {
     "data": {
      "text/plain": [
       "True"
      ]
     },
     "execution_count": 4,
     "metadata": {},
     "output_type": "execute_result"
    }
   ],
   "source": [
    "code = Solution()\n",
    "start = time.time()\n",
    "print(start)\n",
    "code.isPalindrome(s1)"
   ]
  },
  {
   "cell_type": "code",
   "execution_count": 5,
   "id": "9d59e8dc",
   "metadata": {},
   "outputs": [
    {
     "data": {
      "text/plain": [
       "False"
      ]
     },
     "execution_count": 5,
     "metadata": {},
     "output_type": "execute_result"
    }
   ],
   "source": [
    "code.isPalindrome(s2)"
   ]
  },
  {
   "cell_type": "code",
   "execution_count": 6,
   "id": "3fa658ba",
   "metadata": {},
   "outputs": [
    {
     "data": {
      "text/plain": [
       "True"
      ]
     },
     "execution_count": 6,
     "metadata": {},
     "output_type": "execute_result"
    }
   ],
   "source": [
    "code.isPalindrome(s3)"
   ]
  },
  {
   "cell_type": "code",
   "execution_count": 7,
   "id": "8473d516",
   "metadata": {},
   "outputs": [
    {
     "name": "stdout",
     "output_type": "stream",
     "text": [
      "0.045850515365600586\n"
     ]
    }
   ],
   "source": [
    "print(time.time()- start)"
   ]
  },
  {
   "cell_type": "code",
   "execution_count": 9,
   "id": "cf46b188",
   "metadata": {},
   "outputs": [
    {
     "name": "stdout",
     "output_type": "stream",
     "text": [
      "1655865021.1449594\n",
      "0.000997781753540039\n"
     ]
    }
   ],
   "source": [
    "\"\"\"코드 실행 시간 확인\"\"\"\n",
    "\"\"\"코드 실행 시간 확인\"\"\"\n",
    "s1 = \"A man, a plan, a canal: Panama\"\n",
    "s2 = \"race a car\"\n",
    "s3 = \" \"\n",
    "\n",
    "code = Solution()\n",
    "## 실행 시간 측정\n",
    "start = time.time()\n",
    "print(start)\n",
    "code.isPalindrome(s1)\n",
    "code.isPalindrome(s2)\n",
    "code.isPalindrome(s3)\n",
    "print(time.time()-start)"
   ]
  },
  {
   "cell_type": "code",
   "execution_count": null,
   "id": "abb8805d",
   "metadata": {},
   "outputs": [],
   "source": []
  }
 ],
 "metadata": {
  "kernelspec": {
   "display_name": "torch-gpu",
   "language": "python",
   "name": "torch-gpu"
  },
  "language_info": {
   "codemirror_mode": {
    "name": "ipython",
    "version": 3
   },
   "file_extension": ".py",
   "mimetype": "text/x-python",
   "name": "python",
   "nbconvert_exporter": "python",
   "pygments_lexer": "ipython3",
   "version": "3.7.11"
  }
 },
 "nbformat": 4,
 "nbformat_minor": 5
}
