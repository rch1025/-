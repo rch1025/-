{
 "cells": [
  {
   "cell_type": "code",
   "execution_count": 4,
   "id": "9e820152",
   "metadata": {},
   "outputs": [],
   "source": [
    "graph = [[1, 1, 1, 1, 0, 0],\n",
    "         [1, 1, 0, 0, 0, 0],\n",
    "         [1, 0, 1, 0, 0, 1],\n",
    "         [1, 0, 0, 1, 1, 0],\n",
    "         [0, 0, 0, 1, 1, 0],\n",
    "         [0, 0, 1, 0, 0, 1]]\n",
    "\n",
    "input_start = 0\n",
    "start = 0"
   ]
  },
  {
   "cell_type": "code",
   "execution_count": 5,
   "id": "0c305948",
   "metadata": {},
   "outputs": [
    {
     "data": {
      "text/plain": [
       "[0]"
      ]
     },
     "execution_count": 5,
     "metadata": {},
     "output_type": "execute_result"
    }
   ],
   "source": [
    "visited = [0] * len(graph)\n",
    "answer = []\n",
    "stack = [input_start]\n",
    "stack"
   ]
  },
  {
   "cell_type": "code",
   "execution_count": 6,
   "id": "25ccaedc",
   "metadata": {},
   "outputs": [
    {
     "name": "stdout",
     "output_type": "stream",
     "text": [
      "\n",
      "num:  0\n",
      "stack:  [0]\n",
      "pop된 노드:  0\n",
      "\n",
      "num:  1\n",
      "stack:  [1, 2, 3]\n",
      "pop된 노드:  3\n",
      "\n",
      "num:  2\n",
      "stack:  [1, 2, 4]\n",
      "pop된 노드:  4\n",
      "\n",
      "num:  3\n",
      "stack:  [1, 2]\n",
      "pop된 노드:  2\n",
      "\n",
      "num:  4\n",
      "stack:  [1, 5]\n",
      "pop된 노드:  5\n",
      "\n",
      "num:  5\n",
      "stack:  [1]\n",
      "pop된 노드:  1\n"
     ]
    },
    {
     "data": {
      "text/plain": [
       "[0, 3, 4, 2, 5, 1]"
      ]
     },
     "execution_count": 6,
     "metadata": {},
     "output_type": "execute_result"
    }
   ],
   "source": [
    "num = 0\n",
    "while stack:\n",
    "    print('\\nnum: ', num)\n",
    "    num+=1\n",
    "    print(\"stack: \", stack)\n",
    "    temp = stack.pop()\n",
    "    print('pop된 노드: ', temp)\n",
    "    visited[temp] = 1\n",
    "    answer.append(temp)\n",
    "\n",
    "    for i in range(len(graph[temp])):\n",
    "        if graph[temp][i] == 1 and visited[i] == 0 and temp != i:\n",
    "            stack.append(i)\n",
    "answer"
   ]
  }
 ],
 "metadata": {
  "kernelspec": {
   "display_name": "torch-gpu",
   "language": "python",
   "name": "torch-gpu"
  },
  "language_info": {
   "codemirror_mode": {
    "name": "ipython",
    "version": 3
   },
   "file_extension": ".py",
   "mimetype": "text/x-python",
   "name": "python",
   "nbconvert_exporter": "python",
   "pygments_lexer": "ipython3",
   "version": "3.7.11"
  }
 },
 "nbformat": 4,
 "nbformat_minor": 5
}
