{
 "cells": [
  {
   "cell_type": "markdown",
   "id": "e06e632a",
   "metadata": {
    "toc": true
   },
   "source": [
    "<h1>Table of Contents<span class=\"tocSkip\"></span></h1>\n",
    "<div class=\"toc\"><ul class=\"toc-item\"><li><span><a href=\"#1286-:-최댓값,-최솟값\" data-toc-modified-id=\"1286-:-최댓값,-최솟값-1\"><span class=\"toc-item-num\">1&nbsp;&nbsp;</span>1286 : 최댓값, 최솟값</a></span></li><li><span><a href=\"#1369-:-빗금-친-사각형-출력하기\" data-toc-modified-id=\"1369-:-빗금-친-사각형-출력하기-2\"><span class=\"toc-item-num\">2&nbsp;&nbsp;</span>1369 : 빗금 친 사각형 출력하기</a></span></li><li><span><a href=\"#1411\" data-toc-modified-id=\"1411-3\"><span class=\"toc-item-num\">3&nbsp;&nbsp;</span>1411</a></span></li></ul></div>"
   ]
  },
  {
   "cell_type": "markdown",
   "id": "0269069b",
   "metadata": {},
   "source": [
    "# 1286 : 최댓값, 최솟값"
   ]
  },
  {
   "cell_type": "code",
   "execution_count": 1,
   "id": "73fb544e",
   "metadata": {},
   "outputs": [
    {
     "name": "stdout",
     "output_type": "stream",
     "text": [
      "3\n",
      "7\n",
      "-4\n",
      "-6\n",
      "5\n",
      "7\n",
      "-6\n"
     ]
    }
   ],
   "source": [
    "ll = []\n",
    "for i in range(5):\n",
    "    num = int(input())\n",
    "    ll.append(num)\n",
    "print(max(ll))\n",
    "print(min(ll))"
   ]
  },
  {
   "cell_type": "markdown",
   "id": "c916026f",
   "metadata": {},
   "source": [
    "# 1369 : 빗금 친 사각형 출력하기\n",
    "- n = 10\n",
    "- k =3\n",
    "- 위 두 경우에만 맞춰져 있음"
   ]
  },
  {
   "cell_type": "code",
   "execution_count": 112,
   "id": "3f395c11",
   "metadata": {},
   "outputs": [],
   "source": [
    "n=10\n",
    "k=3\n",
    "for idx in range(n):\n",
    "    if (idx%k==2)&(idx!=0):\n",
    "        for skip_idx in [i for i in range(k,n) if i%k==1]:\n",
    "            b_ll[idx][skip_idx]='*'\n",
    "    elif (idx%k==1):\n",
    "        for skip_idx in [i for i in range(1,n) if i%k==2]:\n",
    "            b_ll[idx][skip_idx]='*'\n",
    "    elif (idx%k==0):\n",
    "        for skip_idx in [i for i in range(1,n) if i%k==0]:\n",
    "            b_ll[idx][skip_idx]='*'\n"
   ]
  },
  {
   "cell_type": "code",
   "execution_count": 113,
   "id": "38d37864",
   "metadata": {},
   "outputs": [],
   "source": [
    "for idx in range(n):\n",
    "    if idx in [0,n]:\n",
    "        for j in range(n):\n",
    "            b_ll[idx][j]='*'\n",
    "    else:\n",
    "        b_ll[idx][0]='*'\n",
    "        b_ll[idx][n-1]='*'"
   ]
  },
  {
   "cell_type": "code",
   "execution_count": 118,
   "id": "f4743303",
   "metadata": {},
   "outputs": [
    {
     "data": {
      "text/plain": [
       "[['*', '*', '*', '*', '*', '*', '*', '*', '*', '*'],\n",
       " ['*', '', '*', '', '', '*', '', '', '*', '*'],\n",
       " ['*', '', '', '', '*', '', '', '*', '', '*'],\n",
       " ['*', '', '', '*', '', '', '*', '', '', '*'],\n",
       " ['*', '', '*', '', '', '*', '', '', '*', '*'],\n",
       " ['*', '', '', '', '*', '', '', '*', '', '*'],\n",
       " ['*', '', '', '*', '', '', '*', '', '', '*'],\n",
       " ['*', '', '*', '', '', '*', '', '', '*', '*'],\n",
       " ['*', '', '', '', '*', '', '', '*', '', '*'],\n",
       " ['*', '', '', '*', '', '', '*', '', '', '*']]"
      ]
     },
     "execution_count": 118,
     "metadata": {},
     "output_type": "execute_result"
    }
   ],
   "source": [
    "b_ll"
   ]
  },
  {
   "cell_type": "markdown",
   "id": "f5df4c2f",
   "metadata": {},
   "source": [
    "# 1411"
   ]
  },
  {
   "cell_type": "code",
   "execution_count": 140,
   "id": "b51ed5c8",
   "metadata": {},
   "outputs": [
    {
     "name": "stdout",
     "output_type": "stream",
     "text": [
      "5\n",
      "4\n",
      "3\n",
      "2\n",
      "1\n",
      "5\n"
     ]
    }
   ],
   "source": [
    "num_ = int(input())\n",
    "num = list(range(1, num_+1))\n",
    "i=1\n",
    "\n",
    "while i<num_:\n",
    "    check = int(input())\n",
    "    num.remove(check)\n",
    "    i+=1\n",
    "print(num[0])"
   ]
  }
 ],
 "metadata": {
  "kernelspec": {
   "display_name": "torch-gpu",
   "language": "python",
   "name": "torch-gpu"
  },
  "language_info": {
   "codemirror_mode": {
    "name": "ipython",
    "version": 3
   },
   "file_extension": ".py",
   "mimetype": "text/x-python",
   "name": "python",
   "nbconvert_exporter": "python",
   "pygments_lexer": "ipython3",
   "version": "3.7.11"
  },
  "toc": {
   "base_numbering": 1,
   "nav_menu": {},
   "number_sections": true,
   "sideBar": true,
   "skip_h1_title": false,
   "title_cell": "Table of Contents",
   "title_sidebar": "Contents",
   "toc_cell": true,
   "toc_position": {},
   "toc_section_display": true,
   "toc_window_display": false
  }
 },
 "nbformat": 4,
 "nbformat_minor": 5
}
