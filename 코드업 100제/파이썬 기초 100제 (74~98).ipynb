{
 "cells": [
  {
   "cell_type": "markdown",
   "id": "2937dca2",
   "metadata": {
    "toc": true
   },
   "source": [
    "<h1>Table of Contents<span class=\"tocSkip\"></span></h1>\n",
    "<div class=\"toc\"><ul class=\"toc-item\"></ul></div>"
   ]
  },
  {
   "cell_type": "code",
   "execution_count": 1,
   "id": "bf501801",
   "metadata": {},
   "outputs": [
    {
     "name": "stdout",
     "output_type": "stream",
     "text": [
      "4\n",
      "0\n",
      "1\n",
      "2\n",
      "3\n",
      "4\n"
     ]
    }
   ],
   "source": [
    "## 75번\n",
    "num = int(input())\n",
    "i=0\n",
    "while i<=num:\n",
    "    print(i)\n",
    "    i+=1"
   ]
  },
  {
   "cell_type": "code",
   "execution_count": 2,
   "id": "a8d4fa2a",
   "metadata": {},
   "outputs": [
    {
     "name": "stdout",
     "output_type": "stream",
     "text": [
      "4\n",
      "0\n",
      "1\n",
      "2\n",
      "3\n",
      "4\n"
     ]
    }
   ],
   "source": [
    "## 76번\n",
    "num = int(input())\n",
    "for i in range(num+1):\n",
    "    print(i)"
   ]
  },
  {
   "cell_type": "code",
   "execution_count": 4,
   "id": "371b00f7",
   "metadata": {},
   "outputs": [
    {
     "name": "stdout",
     "output_type": "stream",
     "text": [
      "5\n"
     ]
    },
    {
     "data": {
      "text/plain": [
       "6"
      ]
     },
     "execution_count": 4,
     "metadata": {},
     "output_type": "execute_result"
    }
   ],
   "source": [
    "## 77번\n",
    "num = int(input())\n",
    "num = [i for i in range(num+1)]\n",
    "num = map(lambda x: x if x%2==0 else 0, num)\n",
    "print(sum(num))"
   ]
  },
  {
   "cell_type": "code",
   "execution_count": 24,
   "id": "cda3b59d",
   "metadata": {},
   "outputs": [
    {
     "name": "stdout",
     "output_type": "stream",
     "text": [
      "d\n",
      "d\n",
      "q\n",
      "q\n"
     ]
    }
   ],
   "source": [
    "## 78번\n",
    "while True:\n",
    "    word = input()\n",
    "    if word=='q':\n",
    "        print(word)\n",
    "        break\n",
    "    print(word)"
   ]
  },
  {
   "cell_type": "code",
   "execution_count": 23,
   "id": "cf6bb779",
   "metadata": {},
   "outputs": [
    {
     "name": "stdout",
     "output_type": "stream",
     "text": [
      "55\n",
      "10\n"
     ]
    }
   ],
   "source": [
    "## 79번\n",
    "num = int(input())\n",
    "i = 0\n",
    "sum_=0\n",
    "while sum_<num:\n",
    "    i+=1\n",
    "    sum_ += i\n",
    "print(i)"
   ]
  },
  {
   "cell_type": "code",
   "execution_count": 25,
   "id": "d91273da",
   "metadata": {},
   "outputs": [
    {
     "name": "stdout",
     "output_type": "stream",
     "text": [
      "2 3\n",
      "1 1\n",
      "1 2\n",
      "2 1\n",
      "2 2\n"
     ]
    }
   ],
   "source": [
    "## 80번\n",
    "n, m = input().split()\n",
    "n = int(n)\n",
    "m = int(m)\n",
    "for i in range(1, n+1):\n",
    "    for j in range(1, m+1):\n",
    "        print(i, j)\n",
    "    "
   ]
  },
  {
   "cell_type": "code",
   "execution_count": 26,
   "id": "526616aa",
   "metadata": {},
   "outputs": [
    {
     "name": "stdout",
     "output_type": "stream",
     "text": [
      "B\n",
      "B*0=0\n",
      "B*1=B\n",
      "B*2=16\n",
      "B*3=21\n",
      "B*4=2C\n",
      "B*5=37\n",
      "B*6=42\n",
      "B*7=4D\n",
      "B*8=58\n",
      "B*9=63\n",
      "B*A=6E\n",
      "B*B=79\n",
      "B*C=84\n",
      "B*D=8F\n",
      "B*E=9A\n",
      "B*F=A5\n"
     ]
    }
   ],
   "source": [
    "## 81번\n",
    "n = int(input(), 16) # 16진수 input 값 받기\n",
    "for i in range(1,16):\n",
    "    print('%X'%n, '*%X'%i, '=%X'%(n*i), sep='')"
   ]
  },
  {
   "cell_type": "code",
   "execution_count": 36,
   "id": "c19e2b9b",
   "metadata": {},
   "outputs": [
    {
     "name": "stdout",
     "output_type": "stream",
     "text": [
      "9\n",
      "1 2 X 4 5 X 7 8 X "
     ]
    }
   ],
   "source": [
    "## 82번\n",
    "num = int(input())\n",
    "for i in range(1, num+1):\n",
    "    if i%10 in [3,6,9]:\n",
    "        print('X', end=' ')\n",
    "    else:\n",
    "        print(i, end=' ')"
   ]
  },
  {
   "cell_type": "code",
   "execution_count": 62,
   "id": "dfe6cf91",
   "metadata": {},
   "outputs": [
    {
     "name": "stdout",
     "output_type": "stream",
     "text": [
      "2 2 2\n",
      "0 0 0\n",
      "0 0 1\n",
      "0 1 0\n",
      "0 1 1\n",
      "1 0 0\n",
      "1 0 1\n",
      "1 1 0\n",
      "1 1 1\n",
      "8\n"
     ]
    }
   ],
   "source": [
    "## 83번\n",
    "rgb = input().split()\n",
    "r,g,b = list(map(int, rgb))\n",
    "count=0\n",
    "for i in range(r):\n",
    "    for j in range(g):\n",
    "        for k in range(b):\n",
    "            count+=1\n",
    "            print(i, j, k)\n",
    "print(count)"
   ]
  },
  {
   "cell_type": "code",
   "execution_count": 73,
   "id": "4e739b35",
   "metadata": {},
   "outputs": [
    {
     "name": "stdout",
     "output_type": "stream",
     "text": [
      "44100 16 2 10\n",
      "1.8\n",
      "1764000.0\n"
     ]
    }
   ],
   "source": [
    "## 84번\n",
    "hbcs = input().split()\n",
    "h,b,c,s = list(map(int, hbcs))\n",
    "num = (h*b*c*s)/8\n",
    "print('%.1f' %(num/1000000))\n",
    "print(round(num,2))"
   ]
  },
  {
   "cell_type": "code",
   "execution_count": 65,
   "id": "b0e1cf8d",
   "metadata": {},
   "outputs": [
    {
     "name": "stdout",
     "output_type": "stream",
     "text": [
      "44100 16 2 10\n",
      "1764000.00\n"
     ]
    }
   ],
   "source": [
    "## 84번\n",
    "hbcs = input().split()\n",
    "h,b,c,s = list(map(int, hbcs))\n",
    "print('%.2f' %((h*b*c*s)/8))"
   ]
  },
  {
   "cell_type": "code",
   "execution_count": null,
   "id": "3e6774dd",
   "metadata": {},
   "outputs": [],
   "source": []
  },
  {
   "cell_type": "code",
   "execution_count": 75,
   "id": "30d339e6",
   "metadata": {},
   "outputs": [
    {
     "name": "stdout",
     "output_type": "stream",
     "text": [
      "57\n",
      "66\n"
     ]
    }
   ],
   "source": [
    "## 86번\n",
    "num = int(input())\n",
    "i = 0\n",
    "sum_=0\n",
    "while sum_<num:\n",
    "    i+=1\n",
    "    sum_+=i\n",
    "print(sum_)"
   ]
  },
  {
   "cell_type": "code",
   "execution_count": 77,
   "id": "5f2000df",
   "metadata": {},
   "outputs": [
    {
     "name": "stdout",
     "output_type": "stream",
     "text": [
      "10\n",
      "1 2 4 5 7 8 10 "
     ]
    }
   ],
   "source": [
    "## 87번\n",
    "num = int(input())\n",
    "count=0\n",
    "while count<num:\n",
    "    count+=1\n",
    "    if count%3==0:\n",
    "        pass\n",
    "    else:\n",
    "        print(count, end=' ')\n",
    "    "
   ]
  },
  {
   "cell_type": "code",
   "execution_count": 79,
   "id": "6e7f596f",
   "metadata": {},
   "outputs": [
    {
     "name": "stdout",
     "output_type": "stream",
     "text": [
      "1 3 5\n",
      "13\n"
     ]
    }
   ],
   "source": [
    "## 88번\n",
    "num = input().split()\n",
    "start, d, n = list(map(int, num))\n",
    "print(start+d*(n-1))"
   ]
  },
  {
   "cell_type": "code",
   "execution_count": 82,
   "id": "0a5f45b1",
   "metadata": {},
   "outputs": [
    {
     "name": "stdout",
     "output_type": "stream",
     "text": [
      "2 3 7\n",
      "1458\n"
     ]
    }
   ],
   "source": [
    "## 89번\n",
    "num = input().split()\n",
    "start,  r, n = list(map(int, num))\n",
    "for i in range(n-1):\n",
    "    start = start*r\n",
    "print(start)"
   ]
  },
  {
   "cell_type": "code",
   "execution_count": 85,
   "id": "2f4dea61",
   "metadata": {},
   "outputs": [
    {
     "name": "stdout",
     "output_type": "stream",
     "text": [
      "1 2 3 4\n",
      "29\n"
     ]
    }
   ],
   "source": [
    "## 90번\n",
    "num = input().split()\n",
    "start, m, d, n = list(map(int, num))\n",
    "for i in range(n-1):\n",
    "    start = start*m+d\n",
    "print(start)"
   ]
  },
  {
   "cell_type": "code",
   "execution_count": 102,
   "id": "ff7502f0",
   "metadata": {},
   "outputs": [
    {
     "name": "stdout",
     "output_type": "stream",
     "text": [
      "3 7 9\n",
      "63\n"
     ]
    }
   ],
   "source": [
    "## 91번\n",
    "a,b,c = map(int, input().split())\n",
    "d = 1\n",
    "while d%a!=0 or d%b!=0 or d%c!=0 :\n",
    "    d += 1\n",
    "print(d)"
   ]
  },
  {
   "cell_type": "code",
   "execution_count": 106,
   "id": "650224da",
   "metadata": {},
   "outputs": [
    {
     "name": "stdout",
     "output_type": "stream",
     "text": [
      "10\n",
      "1 3 2 2 5 6 7 4 5 9\n",
      "1 2 1 1 2 1 1 0 1 0 0 0 0 0 0 0 0 0 0 0 0 0 0 "
     ]
    }
   ],
   "source": [
    "## 92번\n",
    "n = int(input())\n",
    "num = input().split()\n",
    "num = list(map(int, num))\n",
    "\n",
    "d = []\n",
    "for i in range(24):\n",
    "    d.append(0)\n",
    "\n",
    "for i in range(n):\n",
    "    d[num[i]] += 1\n",
    "for i in range(1, 24):\n",
    "    print(d[i], end=' ')"
   ]
  },
  {
   "cell_type": "code",
   "execution_count": 10,
   "id": "a50151b5",
   "metadata": {
    "scrolled": true
   },
   "outputs": [
    {
     "name": "stdout",
     "output_type": "stream",
     "text": [
      "5\n",
      "1 2 3 4 5\n",
      "5 4 3 2 1 "
     ]
    }
   ],
   "source": [
    "## 93번\n",
    "n = int(input())\n",
    "num = input().split()\n",
    "num = list(map(int, num))\n",
    "num.reverse()\n",
    "\n",
    "for i in num:\n",
    "    print(i, end= ' ')"
   ]
  },
  {
   "cell_type": "code",
   "execution_count": 12,
   "id": "0909d35a",
   "metadata": {},
   "outputs": [
    {
     "name": "stdout",
     "output_type": "stream",
     "text": [
      "5\n",
      "1 2 3 4 5\n"
     ]
    }
   ],
   "source": [
    "## 94번\n",
    "n = int(input())\n",
    "num = input().split()\n",
    "num = list(map(int, num))\n",
    "print(min(num))"
   ]
  },
  {
   "cell_type": "code",
   "execution_count": 38,
   "id": "threaded-flexibility",
   "metadata": {},
   "outputs": [
    {
     "name": "stdout",
     "output_type": "stream",
     "text": [
      "5\n",
      "1 \n",
      "0 \n",
      "0 \n",
      "0 \n",
      "0 \n",
      "0 \n",
      "0 \n",
      "0 \n",
      "0 \n",
      "0 \n",
      "0 \n",
      "0 \n",
      "0 \n",
      "0 \n",
      "0 \n",
      "0 \n",
      "0 \n",
      "0 \n",
      "0 \n",
      "0 \n",
      "1 \n",
      "0 \n",
      "0 \n",
      "0 \n",
      "0 \n",
      "0 \n",
      "0 \n",
      "0 \n",
      "0 \n",
      "0 \n",
      "0 \n",
      "0 \n",
      "0 \n",
      "0 \n",
      "0 \n",
      "0 \n",
      "0 \n",
      "0 \n",
      "0 \n",
      "0 \n",
      "1 \n",
      "0 \n",
      "0 \n",
      "0 \n",
      "0 \n",
      "0 \n",
      "0 \n",
      "0 \n",
      "0 \n",
      "0 \n",
      "0 \n",
      "0 \n",
      "0 \n",
      "0 \n",
      "0 \n",
      "0 \n",
      "0 \n",
      "0 \n",
      "0 \n",
      "0 \n",
      "1 \n",
      "0 \n",
      "0 \n",
      "0 \n",
      "0 \n",
      "0 \n",
      "0 \n",
      "0 \n",
      "0 \n",
      "0 \n",
      "0 \n",
      "0 \n",
      "0 \n",
      "0 \n",
      "0 \n",
      "0 \n",
      "0 \n",
      "0 \n",
      "0 \n",
      "0 \n",
      "0 \n",
      "0 \n",
      "0 \n",
      "0 \n",
      "0 \n",
      "0 \n",
      "0 \n",
      "0 \n",
      "0 \n",
      "0 \n",
      "0 \n",
      "0 \n",
      "0 \n",
      "0 \n",
      "0 \n",
      "0 \n",
      "0 \n",
      "0 \n",
      "0 \n",
      "0 \n",
      "0 \n",
      "0 \n",
      "0 \n",
      "0 \n",
      "0 \n",
      "0 \n",
      "0 \n",
      "0 \n",
      "0 \n",
      "0 \n",
      "0 \n",
      "0 \n",
      "0 \n",
      "0 \n",
      "0 \n",
      "0 \n",
      "0 \n",
      "0 \n",
      "0 \n",
      "0 \n",
      "0 \n",
      "0 \n",
      "0 \n",
      "0 \n",
      "0 \n",
      "0 \n",
      "0 \n",
      "0 \n",
      "0 \n",
      "0 \n",
      "0 \n",
      "0 \n",
      "0 \n",
      "0 \n",
      "0 \n",
      "0 \n",
      "0 \n",
      "0 \n",
      "0 \n",
      "0 \n",
      "0 \n",
      "0 \n",
      "0 \n",
      "0 \n",
      "0 \n",
      "0 \n",
      "0 \n",
      "0 \n",
      "0 \n",
      "0 \n",
      "0 \n",
      "0 \n",
      "0 \n",
      "0 \n",
      "0 \n",
      "0 \n",
      "0 \n",
      "0 \n",
      "0 \n",
      "0 \n",
      "0 \n",
      "0 \n",
      "0 \n",
      "0 \n",
      "0 \n",
      "0 \n",
      "0 \n",
      "0 \n",
      "0 \n",
      "0 \n",
      "0 \n",
      "0 \n",
      "0 \n",
      "0 \n",
      "0 \n",
      "0 \n",
      "0 \n",
      "0 \n",
      "0 \n",
      "0 \n",
      "0 \n",
      "0 \n",
      "0 \n",
      "0 \n",
      "0 \n",
      "0 \n",
      "0 \n",
      "0 \n",
      "0 \n",
      "0 \n",
      "0 \n",
      "0 \n",
      "0 \n",
      "0 \n",
      "0 \n",
      "0 \n",
      "0 \n",
      "0 \n",
      "0 \n",
      "0 \n",
      "0 \n",
      "0 \n",
      "0 \n",
      "0 \n",
      "0 \n",
      "0 \n",
      "0 \n",
      "0 \n",
      "0 \n",
      "0 \n",
      "0 \n",
      "0 \n",
      "0 \n",
      "0 \n",
      "0 \n",
      "0 \n",
      "0 \n",
      "0 \n",
      "0 \n",
      "0 \n",
      "0 \n",
      "0 \n",
      "0 \n",
      "0 \n",
      "0 \n",
      "0 \n",
      "0 \n",
      "0 \n",
      "0 \n",
      "0 \n",
      "0 \n",
      "0 \n",
      "0 \n",
      "0 \n",
      "0 \n",
      "0 \n",
      "0 \n",
      "0 \n",
      "0 \n",
      "0 \n",
      "0 \n",
      "0 \n",
      "0 \n",
      "0 \n",
      "0 \n",
      "0 \n",
      "0 \n",
      "0 \n",
      "0 \n",
      "0 \n",
      "0 \n",
      "0 \n",
      "0 \n",
      "0 \n",
      "0 \n",
      "0 \n",
      "0 \n",
      "0 \n",
      "0 \n",
      "0 \n",
      "0 \n",
      "0 \n",
      "0 \n",
      "0 \n",
      "0 \n",
      "0 \n",
      "0 \n",
      "0 \n",
      "0 \n",
      "0 \n",
      "0 \n",
      "0 \n",
      "0 \n",
      "0 \n",
      "0 \n",
      "0 \n",
      "0 \n",
      "0 \n",
      "0 \n",
      "0 \n",
      "0 \n",
      "0 \n",
      "0 \n",
      "0 \n",
      "0 \n",
      "0 \n",
      "0 \n",
      "0 \n",
      "0 \n",
      "0 \n",
      "0 \n",
      "0 \n",
      "0 \n",
      "0 \n",
      "0 \n",
      "0 \n",
      "0 \n",
      "0 \n",
      "0 \n",
      "0 \n",
      "0 \n",
      "0 \n",
      "0 \n",
      "0 \n",
      "0 \n",
      "0 \n",
      "0 \n",
      "0 \n",
      "0 \n",
      "0 \n",
      "0 \n",
      "0 \n",
      "0 \n",
      "0 \n",
      "0 \n",
      "0 \n",
      "0 \n",
      "0 \n",
      "0 \n",
      "0 \n",
      "0 \n",
      "0 \n",
      "0 \n",
      "0 \n",
      "0 \n",
      "0 \n",
      "0 \n",
      "0 \n",
      "0 \n",
      "0 \n",
      "0 \n",
      "0 \n",
      "0 \n",
      "0 \n",
      "0 \n",
      "0 \n",
      "0 \n",
      "0 \n",
      "0 \n",
      "0 \n",
      "0 \n",
      "0 \n",
      "0 \n",
      "0 \n",
      "0 \n",
      "0 \n",
      "0 \n",
      "0 \n",
      "0 \n",
      "0 \n",
      "0 \n",
      "0 \n",
      "0 \n",
      "0 \n",
      "0 \n",
      "0 \n",
      "0 \n",
      "0 \n",
      "0 \n",
      "0 \n",
      "0 \n"
     ]
    }
   ],
   "source": [
    "## 95번\n",
    "n = int(input())\n",
    "position = []\n",
    "for i in range(1,n+1):\n",
    "    position.append([i,i])\n",
    "\n",
    "\n",
    "empty= []\n",
    "for i in range(20):\n",
    "    empty.append([])\n",
    "    for j in range(20):\n",
    "        empty[i].append(0)\n",
    "\n",
    "for i,j in :\n",
    "    empty[i][j] = 1\n",
    "\n",
    "for i in range(1, 20) :\n",
    "    for j in range(1, 20) :\n",
    "        print(empty[i][j], end=' ')    #공백을 두고 한 줄로 출력\n",
    "    print()                          #줄 바꿈"
   ]
  },
  {
   "cell_type": "code",
   "execution_count": 44,
   "id": "separated-stomach",
   "metadata": {},
   "outputs": [
    {
     "name": "stdout",
     "output_type": "stream",
     "text": [
      "3\n",
      "1 2\n",
      "3 5\n",
      "6 4\n",
      "0 1 0 0 0 0 0 0 0 0 0 0 0 0 0 0 0 0 0 \n",
      "0 0 0 0 0 0 0 0 0 0 0 0 0 0 0 0 0 0 0 \n",
      "0 0 0 0 1 0 0 0 0 0 0 0 0 0 0 0 0 0 0 \n",
      "0 0 0 0 0 0 0 0 0 0 0 0 0 0 0 0 0 0 0 \n",
      "0 0 0 0 0 0 0 0 0 0 0 0 0 0 0 0 0 0 0 \n",
      "0 0 0 1 0 0 0 0 0 0 0 0 0 0 0 0 0 0 0 \n",
      "0 0 0 0 0 0 0 0 0 0 0 0 0 0 0 0 0 0 0 \n",
      "0 0 0 0 0 0 0 0 0 0 0 0 0 0 0 0 0 0 0 \n",
      "0 0 0 0 0 0 0 0 0 0 0 0 0 0 0 0 0 0 0 \n",
      "0 0 0 0 0 0 0 0 0 0 0 0 0 0 0 0 0 0 0 \n",
      "0 0 0 0 0 0 0 0 0 0 0 0 0 0 0 0 0 0 0 \n",
      "0 0 0 0 0 0 0 0 0 0 0 0 0 0 0 0 0 0 0 \n",
      "0 0 0 0 0 0 0 0 0 0 0 0 0 0 0 0 0 0 0 \n",
      "0 0 0 0 0 0 0 0 0 0 0 0 0 0 0 0 0 0 0 \n",
      "0 0 0 0 0 0 0 0 0 0 0 0 0 0 0 0 0 0 0 \n",
      "0 0 0 0 0 0 0 0 0 0 0 0 0 0 0 0 0 0 0 \n",
      "0 0 0 0 0 0 0 0 0 0 0 0 0 0 0 0 0 0 0 \n",
      "0 0 0 0 0 0 0 0 0 0 0 0 0 0 0 0 0 0 0 \n",
      "0 0 0 0 0 0 0 0 0 0 0 0 0 0 0 0 0 0 0 \n"
     ]
    }
   ],
   "source": [
    "## 95번\n",
    "d=[]                        #대괄호 [ ] 를 이용해 아무것도 없는 빈 리스트 만들기\n",
    "for i in range(20):\n",
    "    d.append([])         #리스트 안에 다른 리스트 추가해 넣기\n",
    "    for j in range(20): \n",
    "        d[i].append(0)    #리스트 안에 들어있는 리스트 안에 0 추가해 넣기\n",
    "\n",
    "n = int(input())\n",
    "for i in range(n):\n",
    "    x, y = input().split()\n",
    "    d[int(x)][int(y)] = 1\n",
    "\n",
    "for i in range(1, 20):\n",
    "    for j in range(1, 20): \n",
    "        print(d[i][j], end=' ')    #공백을 두고 한 줄로 출력\n",
    "    print()                          #줄 바꿈"
   ]
  },
  {
   "cell_type": "code",
   "execution_count": 88,
   "id": "conservative-recognition",
   "metadata": {},
   "outputs": [
    {
     "name": "stdout",
     "output_type": "stream",
     "text": [
      "5 5\n"
     ]
    }
   ],
   "source": [
    "## 97번 \n",
    "w,h = input().split()\n",
    "w = int(w); h = int(h)\n",
    "d = [[0 for idx in range(h)]for jdx in range(w)]"
   ]
  },
  {
   "cell_type": "code",
   "execution_count": 89,
   "id": "175214a2",
   "metadata": {},
   "outputs": [
    {
     "data": {
      "text/plain": [
       "[[0, 0, 0, 0, 0],\n",
       " [0, 0, 0, 0, 0],\n",
       " [0, 0, 0, 0, 0],\n",
       " [0, 0, 0, 0, 0],\n",
       " [0, 0, 0, 0, 0]]"
      ]
     },
     "execution_count": 89,
     "metadata": {},
     "output_type": "execute_result"
    }
   ],
   "source": [
    "w,h = map(int,input().split())\n",
    "dx = [[0 for i in range(h)]for j in range(w)]\n",
    "\n",
    "n = int(input())\n",
    "for i in range(n):\n",
    "    l,d,x,y = map(int,input().split()) \n",
    "\n",
    "    if d == 0 :\n",
    "        for j in range(l):\n",
    "            dx[x-1][y-1+j] = 1\n",
    "    else : \n",
    "        for j in range(l):\n",
    "            dx[x-1+j][y-1] = 1\n",
    "\n",
    "for i in range(w):\n",
    "    for j in range(h):\n",
    "          print(dx[i][j], end = ' ')\n",
    "    print()"
   ]
  }
 ],
 "metadata": {
  "kernelspec": {
   "display_name": "torch-gpu",
   "language": "python",
   "name": "torch-gpu"
  },
  "language_info": {
   "codemirror_mode": {
    "name": "ipython",
    "version": 3
   },
   "file_extension": ".py",
   "mimetype": "text/x-python",
   "name": "python",
   "nbconvert_exporter": "python",
   "pygments_lexer": "ipython3",
   "version": "3.7.11"
  },
  "toc": {
   "base_numbering": 1,
   "nav_menu": {},
   "number_sections": true,
   "sideBar": true,
   "skip_h1_title": false,
   "title_cell": "Table of Contents",
   "title_sidebar": "Contents",
   "toc_cell": true,
   "toc_position": {},
   "toc_section_display": true,
   "toc_window_display": false
  }
 },
 "nbformat": 4,
 "nbformat_minor": 5
}
