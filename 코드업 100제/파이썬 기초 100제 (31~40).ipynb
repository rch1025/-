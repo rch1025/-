{
 "cells": [
  {
   "cell_type": "markdown",
   "id": "2937dca2",
   "metadata": {
    "toc": true
   },
   "source": [
    "<h1>Table of Contents<span class=\"tocSkip\"></span></h1>\n",
    "<div class=\"toc\"><ul class=\"toc-item\"></ul></div>"
   ]
  },
  {
   "cell_type": "code",
   "execution_count": 2,
   "id": "2c25dc5a",
   "metadata": {},
   "outputs": [
    {
     "name": "stdout",
     "output_type": "stream",
     "text": [
      "65\n",
      "A\n"
     ]
    }
   ],
   "source": [
    "## 31번\n",
    "# chr( )는 정수값->문자, ord( )는 문자->정수값 형태로 바꿔주는 서로 반대 방향으로 바꾸어 주는 기능을 한다.\n",
    "num = int(input())\n",
    "print(chr(num))"
   ]
  },
  {
   "cell_type": "code",
   "execution_count": 4,
   "id": "bc9b5d59",
   "metadata": {},
   "outputs": [
    {
     "name": "stdout",
     "output_type": "stream",
     "text": [
      "56\n",
      "-56\n"
     ]
    }
   ],
   "source": [
    "## 32번\n",
    "num = int(input())\n",
    "print(-num)"
   ]
  },
  {
   "cell_type": "code",
   "execution_count": 9,
   "id": "b9159a0b",
   "metadata": {},
   "outputs": [
    {
     "name": "stdout",
     "output_type": "stream",
     "text": [
      "a\n",
      "b\n"
     ]
    }
   ],
   "source": [
    "## 33번\n",
    "# 아스키문자표에서 'A'는 10진수 65로 저장되고 'B'는 10진수 66으로 저장된다.\n",
    "# 따라서 문자도 값으로 덧셈을 할 수 있다. 어떤 문자의 값에 1을 더하면 그 다음 문자의 값이 된다.\n",
    "num = ord(input())\n",
    "print(chr(num+1))"
   ]
  },
  {
   "cell_type": "code",
   "execution_count": 13,
   "id": "0682beba",
   "metadata": {},
   "outputs": [
    {
     "name": "stdout",
     "output_type": "stream",
     "text": [
      "5 4\n",
      "1\n"
     ]
    }
   ],
   "source": [
    "## 34번\n",
    "a, b = input().split()\n",
    "print(int(a)-int(b))"
   ]
  },
  {
   "cell_type": "code",
   "execution_count": 16,
   "id": "b743863b",
   "metadata": {},
   "outputs": [
    {
     "name": "stdout",
     "output_type": "stream",
     "text": [
      "0.5 2.0\n",
      "1.0\n"
     ]
    }
   ],
   "source": [
    "## 35번\n",
    "a, b = input().split()\n",
    "print(float(a)*float(b))"
   ]
  },
  {
   "cell_type": "code",
   "execution_count": 18,
   "id": "13a94d6c",
   "metadata": {},
   "outputs": [
    {
     "name": "stdout",
     "output_type": "stream",
     "text": [
      "love 3\n",
      "lovelovelove\n"
     ]
    }
   ],
   "source": [
    "## 36번\n",
    "word, num = input().split()\n",
    "print(word*int(num))"
   ]
  },
  {
   "cell_type": "code",
   "execution_count": 19,
   "id": "7241ab29",
   "metadata": {},
   "outputs": [
    {
     "name": "stdout",
     "output_type": "stream",
     "text": [
      "3\n",
      "I love CS\n",
      "I love CSI love CSI love CS\n"
     ]
    }
   ],
   "source": [
    "## 37번\n",
    "num = int(input())\n",
    "sen = input()\n",
    "print(sen*num)"
   ]
  },
  {
   "cell_type": "code",
   "execution_count": 20,
   "id": "fa11a5c3",
   "metadata": {},
   "outputs": [
    {
     "name": "stdout",
     "output_type": "stream",
     "text": [
      "2 10\n",
      "1024\n"
     ]
    }
   ],
   "source": [
    "## 38번\n",
    "a, b = input().split()\n",
    "print(int(a)**int(b))"
   ]
  },
  {
   "cell_type": "code",
   "execution_count": 21,
   "id": "d4c3376f",
   "metadata": {},
   "outputs": [
    {
     "name": "stdout",
     "output_type": "stream",
     "text": [
      "4.0 2.0\n",
      "16.0\n"
     ]
    }
   ],
   "source": [
    "## 39번\n",
    "a, b = input().split()\n",
    "print(float(a)**float(b))"
   ]
  },
  {
   "cell_type": "code",
   "execution_count": 22,
   "id": "86501da0",
   "metadata": {},
   "outputs": [
    {
     "name": "stdout",
     "output_type": "stream",
     "text": [
      "10 3\n",
      "3\n"
     ]
    }
   ],
   "source": [
    "## 40번\n",
    "a, b = input().split()\n",
    "print(int(a)//int(b))"
   ]
  }
 ],
 "metadata": {
  "kernelspec": {
   "display_name": "torch-gpu",
   "language": "python",
   "name": "torch-gpu"
  },
  "language_info": {
   "codemirror_mode": {
    "name": "ipython",
    "version": 3
   },
   "file_extension": ".py",
   "mimetype": "text/x-python",
   "name": "python",
   "nbconvert_exporter": "python",
   "pygments_lexer": "ipython3",
   "version": "3.7.11"
  },
  "toc": {
   "base_numbering": 1,
   "nav_menu": {},
   "number_sections": true,
   "sideBar": true,
   "skip_h1_title": false,
   "title_cell": "Table of Contents",
   "title_sidebar": "Contents",
   "toc_cell": true,
   "toc_position": {},
   "toc_section_display": true,
   "toc_window_display": false
  }
 },
 "nbformat": 4,
 "nbformat_minor": 5
}
