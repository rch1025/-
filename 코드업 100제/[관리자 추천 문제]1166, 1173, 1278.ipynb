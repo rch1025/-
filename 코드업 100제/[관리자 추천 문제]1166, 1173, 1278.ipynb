{
 "cells": [
  {
   "cell_type": "markdown",
   "id": "2de4f5b6",
   "metadata": {
    "toc": true
   },
   "source": [
    "<h1>Table of Contents<span class=\"tocSkip\"></span></h1>\n",
    "<div class=\"toc\"><ul class=\"toc-item\"><li><span><a href=\"#1166-:-윤년-판별\" data-toc-modified-id=\"1166-:-윤년-판별-1\"><span class=\"toc-item-num\">1&nbsp;&nbsp;</span>1166 : 윤년 판별</a></span></li><li><span><a href=\"#1173-:-30분전\" data-toc-modified-id=\"1173-:-30분전-2\"><span class=\"toc-item-num\">2&nbsp;&nbsp;</span>1173 : 30분전</a></span></li><li><span><a href=\"#1278-:-자릿수-계산\" data-toc-modified-id=\"1278-:-자릿수-계산-3\"><span class=\"toc-item-num\">3&nbsp;&nbsp;</span>1278 : 자릿수 계산</a></span></li></ul></div>"
   ]
  },
  {
   "cell_type": "markdown",
   "id": "f9e7d675",
   "metadata": {},
   "source": [
    "# 1166 : 윤년 판별"
   ]
  },
  {
   "cell_type": "code",
   "execution_count": 1,
   "id": "391a1403",
   "metadata": {},
   "outputs": [],
   "source": [
    "# 400의 배수이면 무조건 윤년\n",
    "# 400의 배수가 아닌 수 중에 4의 배수이며, 100의 배수가 아니면 윤년"
   ]
  },
  {
   "cell_type": "code",
   "execution_count": 6,
   "id": "93ce180c",
   "metadata": {},
   "outputs": [
    {
     "name": "stdout",
     "output_type": "stream",
     "text": [
      "2012\n",
      "Leap\n"
     ]
    }
   ],
   "source": [
    "n = int(input())\n",
    "if n%400==0:\n",
    "    print('Leap')\n",
    "elif (n%4==0)&(n%100!=0):\n",
    "    print('Leap')\n",
    "else:\n",
    "    print('Normal')"
   ]
  },
  {
   "cell_type": "markdown",
   "id": "7d173aee",
   "metadata": {},
   "source": [
    "# 1173 : 30분전"
   ]
  },
  {
   "cell_type": "code",
   "execution_count": 7,
   "id": "18d4fdff",
   "metadata": {},
   "outputs": [],
   "source": [
    "# 공백을 기준으로 시간과 분이 주어짐\n",
    "# 이 시간을 기준으로 30분 전의 시간을 출력"
   ]
  },
  {
   "cell_type": "code",
   "execution_count": 15,
   "id": "1a6a1614",
   "metadata": {},
   "outputs": [
    {
     "name": "stdout",
     "output_type": "stream",
     "text": [
      "0 10\n",
      "23 40\n"
     ]
    }
   ],
   "source": [
    "hour, minutes = map(int, input().split())\n",
    "\n",
    "if minutes<30:\n",
    "    minutes = (60+minutes) - 30\n",
    "    if hour==0:\n",
    "        hour=24\n",
    "    hour-=1\n",
    "    print(hour, minutes)\n",
    "else:\n",
    "    print(hour, minutes-30)"
   ]
  },
  {
   "cell_type": "markdown",
   "id": "e165e486",
   "metadata": {},
   "source": [
    "# 1278 : 자릿수 계산"
   ]
  },
  {
   "cell_type": "code",
   "execution_count": 17,
   "id": "e8a39bcf",
   "metadata": {},
   "outputs": [],
   "source": [
    "# 어떤 숫자가 입력되면 그 숫자가 몇 자릿수 숫자인지 알아내기"
   ]
  },
  {
   "cell_type": "code",
   "execution_count": 31,
   "id": "4035333c",
   "metadata": {},
   "outputs": [
    {
     "name": "stdout",
     "output_type": "stream",
     "text": [
      "54\n",
      "2\n"
     ]
    }
   ],
   "source": [
    "n = int(input())\n",
    "\n",
    "i=1\n",
    "while True:\n",
    "    if n/10**i < 1:\n",
    "        print(i)\n",
    "        break\n",
    "    else:\n",
    "        i+=1"
   ]
  }
 ],
 "metadata": {
  "kernelspec": {
   "display_name": "torch-gpu",
   "language": "python",
   "name": "torch-gpu"
  },
  "language_info": {
   "codemirror_mode": {
    "name": "ipython",
    "version": 3
   },
   "file_extension": ".py",
   "mimetype": "text/x-python",
   "name": "python",
   "nbconvert_exporter": "python",
   "pygments_lexer": "ipython3",
   "version": "3.7.11"
  },
  "toc": {
   "base_numbering": 1,
   "nav_menu": {},
   "number_sections": true,
   "sideBar": true,
   "skip_h1_title": false,
   "title_cell": "Table of Contents",
   "title_sidebar": "Contents",
   "toc_cell": true,
   "toc_position": {},
   "toc_section_display": true,
   "toc_window_display": false
  }
 },
 "nbformat": 4,
 "nbformat_minor": 5
}
