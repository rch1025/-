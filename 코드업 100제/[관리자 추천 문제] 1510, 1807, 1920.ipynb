{
 "cells": [
  {
   "cell_type": "markdown",
   "id": "54800449",
   "metadata": {
    "toc": true
   },
   "source": [
    "<h1>Table of Contents<span class=\"tocSkip\"></span></h1>\n",
    "<div class=\"toc\"><ul class=\"toc-item\"><li><span><a href=\"#1510-:-홀수-마방진\" data-toc-modified-id=\"1510-:-홀수-마방진-1\"><span class=\"toc-item-num\">1&nbsp;&nbsp;</span>1510 : 홀수 마방진</a></span></li><li><span><a href=\"#1807-:-우박수-길이\" data-toc-modified-id=\"1807-:-우박수-길이-2\"><span class=\"toc-item-num\">2&nbsp;&nbsp;</span>1807 : 우박수 길이</a></span></li><li><span><a href=\"#1920-:-(재귀함수)-2진수-변환\" data-toc-modified-id=\"1920-:-(재귀함수)-2진수-변환-3\"><span class=\"toc-item-num\">3&nbsp;&nbsp;</span>1920 : (재귀함수) 2진수 변환</a></span></li></ul></div>"
   ]
  },
  {
   "cell_type": "markdown",
   "id": "5b6570e1",
   "metadata": {},
   "source": [
    "# 1510 : 홀수 마방진\n",
    "- 행 감소?\n",
    "- 열 증가?"
   ]
  },
  {
   "cell_type": "code",
   "execution_count": 13,
   "id": "f42ec625",
   "metadata": {},
   "outputs": [
    {
     "data": {
      "text/plain": [
       "[[' ', ' ', ' '], [' ', ' ', ' '], [' ', ' ', ' ']]"
      ]
     },
     "execution_count": 13,
     "metadata": {},
     "output_type": "execute_result"
    }
   ],
   "source": [
    "al = [[' ' for idx in range(n)] for jdx in range(n)]\n",
    "al"
   ]
  },
  {
   "cell_type": "code",
   "execution_count": 9,
   "id": "1fb4d6af",
   "metadata": {},
   "outputs": [],
   "source": [
    "n=3\n",
    "al = []\n",
    "\n",
    "for idx1 in range(n):\n",
    "    ll = []\n",
    "    for idx2 in range(n):\n",
    "        ll.append(' ')\n",
    "    al.append(ll)"
   ]
  },
  {
   "cell_type": "markdown",
   "id": "2a8c8908",
   "metadata": {},
   "source": [
    "# 1807 : 우박수 길이"
   ]
  },
  {
   "cell_type": "code",
   "execution_count": 91,
   "id": "27176f6b",
   "metadata": {},
   "outputs": [
    {
     "name": "stdout",
     "output_type": "stream",
     "text": [
      "10\n",
      "5.0\n",
      "16.0\n",
      "8.0\n",
      "4.0\n",
      "2.0\n",
      "## 7\n"
     ]
    }
   ],
   "source": [
    "n = 10\n",
    "step = 1\n",
    "ll = []\n",
    "\n",
    "while n!=1:\n",
    "    print(n)\n",
    "    ll.append(n)\n",
    "    if n%2!=0:\n",
    "        n = 3*n+1\n",
    "    else:\n",
    "        n = n/2\n",
    "    step+=1\n",
    "print('##', step)"
   ]
  },
  {
   "cell_type": "code",
   "execution_count": 25,
   "id": "8963a4ba",
   "metadata": {},
   "outputs": [
    {
     "name": "stdout",
     "output_type": "stream",
     "text": [
      "1 10\n"
     ]
    }
   ],
   "source": [
    "a, b = map(int, input().split())\n",
    "ll = []\n",
    "\n",
    "for n in [a,b]:\n",
    "    step = 1\n",
    "    while n!=1:\n",
    "        if n%2!=0:\n",
    "            n = 3*n+1\n",
    "        else:\n",
    "            n = n/2\n",
    "        step+=1\n",
    "    ll.append(step)"
   ]
  },
  {
   "cell_type": "markdown",
   "id": "b3940131",
   "metadata": {},
   "source": [
    "# 1920 : (재귀함수) 2진수 변환"
   ]
  },
  {
   "cell_type": "code",
   "execution_count": 85,
   "id": "f6524113",
   "metadata": {},
   "outputs": [
    {
     "name": "stdout",
     "output_type": "stream",
     "text": [
      "7\n",
      "111\n"
     ]
    }
   ],
   "source": [
    "n = int(input())\n",
    "\n",
    "ll = []\n",
    "def two(n):\n",
    "    num = n%2\n",
    "    n = n//2\n",
    "    ll.append(num)\n",
    "    if n<=0:\n",
    "        return \n",
    "    two(n)\n",
    "\n",
    "two(n)\n",
    "ll.reverse()\n",
    "print(int(''.join(map(str,ll))))"
   ]
  }
 ],
 "metadata": {
  "kernelspec": {
   "display_name": "torch-gpu",
   "language": "python",
   "name": "torch-gpu"
  },
  "language_info": {
   "codemirror_mode": {
    "name": "ipython",
    "version": 3
   },
   "file_extension": ".py",
   "mimetype": "text/x-python",
   "name": "python",
   "nbconvert_exporter": "python",
   "pygments_lexer": "ipython3",
   "version": "3.7.11"
  },
  "toc": {
   "base_numbering": 1,
   "nav_menu": {},
   "number_sections": true,
   "sideBar": true,
   "skip_h1_title": false,
   "title_cell": "Table of Contents",
   "title_sidebar": "Contents",
   "toc_cell": true,
   "toc_position": {},
   "toc_section_display": true,
   "toc_window_display": false
  }
 },
 "nbformat": 4,
 "nbformat_minor": 5
}
