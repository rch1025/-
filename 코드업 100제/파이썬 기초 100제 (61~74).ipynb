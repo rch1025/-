{
 "cells": [
  {
   "cell_type": "markdown",
   "id": "2937dca2",
   "metadata": {
    "toc": true
   },
   "source": [
    "<h1>Table of Contents<span class=\"tocSkip\"></span></h1>\n",
    "<div class=\"toc\"><ul class=\"toc-item\"></ul></div>"
   ]
  },
  {
   "cell_type": "code",
   "execution_count": 2,
   "id": "013c00f6",
   "metadata": {},
   "outputs": [
    {
     "name": "stdout",
     "output_type": "stream",
     "text": [
      "3 5\n",
      "7\n"
     ]
    }
   ],
   "source": [
    "## 61번\n",
    "a, b = input().split()\n",
    "a = int(a)\n",
    "b = int(b)\n",
    "print(a | b)"
   ]
  },
  {
   "cell_type": "code",
   "execution_count": 3,
   "id": "b0e1cf8d",
   "metadata": {},
   "outputs": [
    {
     "name": "stdout",
     "output_type": "stream",
     "text": [
      "3 5\n",
      "6\n"
     ]
    }
   ],
   "source": [
    "## 62번\n",
    "# xor 연산은 ^\n",
    "a, b = input().split()\n",
    "a = int(a)\n",
    "b = int(b)\n",
    "print(a^b)"
   ]
  },
  {
   "cell_type": "code",
   "execution_count": 4,
   "id": "b1d16ce4",
   "metadata": {},
   "outputs": [
    {
     "name": "stdout",
     "output_type": "stream",
     "text": [
      "12 45\n",
      "45\n"
     ]
    }
   ],
   "source": [
    "## 63번\n",
    "a, b = input().split()\n",
    "a = int(a)\n",
    "b = int(b)\n",
    "print(a if a>b else b)"
   ]
  },
  {
   "cell_type": "code",
   "execution_count": 5,
   "id": "948f65bd",
   "metadata": {},
   "outputs": [
    {
     "name": "stdout",
     "output_type": "stream",
     "text": [
      "3 5 4\n"
     ]
    },
    {
     "data": {
      "text/plain": [
       "3"
      ]
     },
     "execution_count": 5,
     "metadata": {},
     "output_type": "execute_result"
    }
   ],
   "source": [
    "## 64번\n",
    "a, b, c = input().split()\n",
    "a = int(a)\n",
    "b = int(b)\n",
    "c = int(c)\n",
    "print(min(a,b,c))"
   ]
  },
  {
   "cell_type": "code",
   "execution_count": 7,
   "id": "e7eed7b7",
   "metadata": {},
   "outputs": [
    {
     "name": "stdout",
     "output_type": "stream",
     "text": [
      "1 2 4\n",
      "2\n",
      "4\n"
     ]
    }
   ],
   "source": [
    "## 65번\n",
    "a, b, c = input().split()\n",
    "a = int(a)\n",
    "b = int(b)\n",
    "c = int(c)\n",
    "for i in [a,b,c]:\n",
    "    if i % 2 ==0:\n",
    "        print(i)\n"
   ]
  },
  {
   "cell_type": "code",
   "execution_count": 10,
   "id": "9ed53be9",
   "metadata": {},
   "outputs": [
    {
     "name": "stdout",
     "output_type": "stream",
     "text": [
      "1 2 4\n",
      "odd\n",
      "even\n",
      "even\n"
     ]
    }
   ],
   "source": [
    "## 66번\n",
    "a, b, c = input().split()\n",
    "a = int(a)\n",
    "b = int(b)\n",
    "c = int(c)\n",
    "ll = [a,b,c]\n",
    "ll2 = map(lambda x: 'odd' if x%2==1 else 'even', ll)\n",
    "for i in ll2:\n",
    "    print(i)"
   ]
  },
  {
   "cell_type": "code",
   "execution_count": 14,
   "id": "6da09bcc",
   "metadata": {},
   "outputs": [
    {
     "name": "stdout",
     "output_type": "stream",
     "text": [
      "-2147483648\n",
      "A\n"
     ]
    }
   ],
   "source": [
    "## 67번\n",
    "num = int(input())\n",
    "def check(num):\n",
    "    if num%2==0:\n",
    "        if num<0:\n",
    "            print('A')\n",
    "        else:\n",
    "            print('C')\n",
    "    elif num%2==1:\n",
    "        if num<0:\n",
    "            print('B')\n",
    "        else:\n",
    "            print('D')  \n",
    "\n",
    "check(num)"
   ]
  },
  {
   "cell_type": "code",
   "execution_count": 15,
   "id": "6568cead",
   "metadata": {},
   "outputs": [
    {
     "name": "stdout",
     "output_type": "stream",
     "text": [
      "73\n",
      "B\n"
     ]
    }
   ],
   "source": [
    "## 68번\n",
    "num = int(input())\n",
    "if num>=90:\n",
    "    print('A')\n",
    "elif num>=70:\n",
    "    print('B')\n",
    "elif num>=40:\n",
    "    print('C')\n",
    "else:\n",
    "    print('D')"
   ]
  },
  {
   "cell_type": "code",
   "execution_count": 16,
   "id": "eff5bd29",
   "metadata": {},
   "outputs": [
    {
     "name": "stdout",
     "output_type": "stream",
     "text": [
      "A\n",
      "best!!!\n"
     ]
    }
   ],
   "source": [
    "## 69번\n",
    "word = input()\n",
    "if word=='A':\n",
    "    print('best!!!')\n",
    "elif word=='B':\n",
    "    print('good!!')\n",
    "elif word=='C':\n",
    "    print('run!')\n",
    "elif word=='D':\n",
    "    print('slowly~')\n",
    "else:\n",
    "    print('what?')"
   ]
  },
  {
   "cell_type": "code",
   "execution_count": 17,
   "id": "9b475299",
   "metadata": {},
   "outputs": [
    {
     "name": "stdout",
     "output_type": "stream",
     "text": [
      "12\n",
      "winter\n"
     ]
    }
   ],
   "source": [
    "## 70번\n",
    "month = int(input())\n",
    "if month in [12, 1, 2]:\n",
    "    print('winter')\n",
    "elif month in [3, 4, 5]:\n",
    "    print('spring')\n",
    "elif month in [6, 7, 8]:\n",
    "    print('summer')\n",
    "else:\n",
    "    print('fall')"
   ]
  },
  {
   "cell_type": "code",
   "execution_count": 21,
   "id": "07363945",
   "metadata": {},
   "outputs": [
    {
     "name": "stdout",
     "output_type": "stream",
     "text": [
      "5\n",
      "5\n",
      "54\n",
      "54\n",
      "7\n",
      "7\n",
      "0\n"
     ]
    }
   ],
   "source": [
    "## 71번\n",
    "while True:\n",
    "    num=int(input())\n",
    "    if num!=0:\n",
    "        print(num)\n",
    "    else:\n",
    "        break"
   ]
  },
  {
   "cell_type": "code",
   "execution_count": 22,
   "id": "e7ca7c08",
   "metadata": {},
   "outputs": [
    {
     "name": "stdout",
     "output_type": "stream",
     "text": [
      "5\n",
      "5\n",
      "4\n",
      "3\n",
      "2\n",
      "1\n"
     ]
    }
   ],
   "source": [
    "## 72번\n",
    "num = int(input())\n",
    "while num!=0:\n",
    "    print(num)\n",
    "    num-=1"
   ]
  },
  {
   "cell_type": "code",
   "execution_count": 24,
   "id": "82bbcca5",
   "metadata": {},
   "outputs": [
    {
     "name": "stdout",
     "output_type": "stream",
     "text": [
      "5\n",
      "4\n",
      "3\n",
      "2\n",
      "1\n",
      "0\n"
     ]
    }
   ],
   "source": [
    "## 73번\n",
    "num = int(input())\n",
    "while num!=0:\n",
    "    num-=1\n",
    "    print(num)"
   ]
  },
  {
   "cell_type": "code",
   "execution_count": 28,
   "id": "5007c987",
   "metadata": {},
   "outputs": [
    {
     "data": {
      "text/plain": [
       "'a'"
      ]
     },
     "execution_count": 28,
     "metadata": {},
     "output_type": "execute_result"
    }
   ],
   "source": [
    "chr(97)"
   ]
  },
  {
   "cell_type": "code",
   "execution_count": 30,
   "id": "56757fb3",
   "metadata": {},
   "outputs": [
    {
     "name": "stdout",
     "output_type": "stream",
     "text": [
      "f\n",
      "a b c d e f "
     ]
    }
   ],
   "source": [
    "## 74번\n",
    "final_num = ord(input())\n",
    "start_num = ord('a')\n",
    "while start_num<=final_num:\n",
    "    print(chr(start_num), end=' ')\n",
    "    start_num+=1"
   ]
  },
  {
   "cell_type": "code",
   "execution_count": null,
   "id": "eab54e31",
   "metadata": {},
   "outputs": [],
   "source": []
  },
  {
   "cell_type": "code",
   "execution_count": null,
   "id": "97ed6c5c",
   "metadata": {},
   "outputs": [],
   "source": []
  },
  {
   "cell_type": "code",
   "execution_count": null,
   "id": "bbdf103b",
   "metadata": {},
   "outputs": [],
   "source": []
  },
  {
   "cell_type": "code",
   "execution_count": null,
   "id": "66e498c0",
   "metadata": {},
   "outputs": [],
   "source": []
  },
  {
   "cell_type": "code",
   "execution_count": null,
   "id": "f00fe722",
   "metadata": {},
   "outputs": [],
   "source": []
  },
  {
   "cell_type": "code",
   "execution_count": null,
   "id": "72e21d64",
   "metadata": {},
   "outputs": [],
   "source": []
  }
 ],
 "metadata": {
  "kernelspec": {
   "display_name": "torch-gpu",
   "language": "python",
   "name": "torch-gpu"
  },
  "language_info": {
   "codemirror_mode": {
    "name": "ipython",
    "version": 3
   },
   "file_extension": ".py",
   "mimetype": "text/x-python",
   "name": "python",
   "nbconvert_exporter": "python",
   "pygments_lexer": "ipython3",
   "version": "3.7.11"
  },
  "toc": {
   "base_numbering": 1,
   "nav_menu": {},
   "number_sections": true,
   "sideBar": true,
   "skip_h1_title": false,
   "title_cell": "Table of Contents",
   "title_sidebar": "Contents",
   "toc_cell": true,
   "toc_position": {},
   "toc_section_display": true,
   "toc_window_display": false
  }
 },
 "nbformat": 4,
 "nbformat_minor": 5
}
