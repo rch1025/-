{
 "cells": [
  {
   "cell_type": "markdown",
   "id": "e06e632a",
   "metadata": {
    "toc": true
   },
   "source": [
    "<h1>Table of Contents<span class=\"tocSkip\"></span></h1>\n",
    "<div class=\"toc\"><ul class=\"toc-item\"><li><span><a href=\"#1930-:-SuperSum-**\" data-toc-modified-id=\"1930-:-SuperSum-**-1\"><span class=\"toc-item-num\">1&nbsp;&nbsp;</span>1930 : SuperSum **</a></span></li><li><span><a href=\"#2007-:-오름차순-내림차순\" data-toc-modified-id=\"2007-:-오름차순-내림차순-2\"><span class=\"toc-item-num\">2&nbsp;&nbsp;</span>2007 : 오름차순 내림차순</a></span></li><li><span><a href=\"#2008-:-오름차순-내림차순-2\" data-toc-modified-id=\"2008-:-오름차순-내림차순-2-3\"><span class=\"toc-item-num\">3&nbsp;&nbsp;</span>2008 : 오름차순 내림차순 2</a></span></li><li><span><a href=\"#2009:-아메리카노\" data-toc-modified-id=\"2009:-아메리카노-4\"><span class=\"toc-item-num\">4&nbsp;&nbsp;</span>2009: 아메리카노</a></span></li><li><span><a href=\"#2016-:-천단위-구분기호\" data-toc-modified-id=\"2016-:-천단위-구분기호-5\"><span class=\"toc-item-num\">5&nbsp;&nbsp;</span>2016 : 천단위 구분기호</a></span></li><li><span><a href=\"#2033-:-사다리-게임-**\" data-toc-modified-id=\"2033-:-사다리-게임-**-6\"><span class=\"toc-item-num\">6&nbsp;&nbsp;</span>2033 : 사다리 게임 **</a></span></li></ul></div>"
   ]
  },
  {
   "cell_type": "markdown",
   "id": "0269069b",
   "metadata": {},
   "source": [
    "# 1930 : SuperSum **\n",
    "- 메모제이션?"
   ]
  },
  {
   "cell_type": "code",
   "execution_count": 1,
   "id": "6edd18d3",
   "metadata": {},
   "outputs": [],
   "source": [
    "k,n = 1,3"
   ]
  },
  {
   "cell_type": "code",
   "execution_count": null,
   "id": "707c962d",
   "metadata": {},
   "outputs": [],
   "source": [
    "final = 0\n",
    "\n",
    "## 재귀 함수 정의\n",
    "supersum(k, n):\n",
    "    while k!=0:\n",
    "        k-=1\n",
    "        if k==0:\n",
    "            final+=n\n",
    "            break\n",
    "        supersum(k,n)"
   ]
  },
  {
   "cell_type": "code",
   "execution_count": 148,
   "id": "73fb544e",
   "metadata": {},
   "outputs": [],
   "source": [
    "supersum(k,n):\n",
    "    "
   ]
  },
  {
   "cell_type": "code",
   "execution_count": null,
   "id": "3ffead50",
   "metadata": {},
   "outputs": [],
   "source": [
    "k_i = k\n",
    "while k_i!=-1:\n",
    "    for n_i in range(1,n+1):\n",
    "        if "
   ]
  },
  {
   "cell_type": "code",
   "execution_count": null,
   "id": "d5bbc1d2",
   "metadata": {},
   "outputs": [],
   "source": []
  },
  {
   "cell_type": "markdown",
   "id": "c916026f",
   "metadata": {},
   "source": [
    "# 2007 : 오름차순 내림차순"
   ]
  },
  {
   "cell_type": "code",
   "execution_count": 27,
   "id": "5b011741",
   "metadata": {},
   "outputs": [
    {
     "name": "stdout",
     "output_type": "stream",
     "text": [
      "6\n",
      "2992 444 123 111 74 3\n",
      "내림차순\n"
     ]
    }
   ],
   "source": [
    "n = int(input())\n",
    "num = list(map(int, input().split()))\n",
    "\n",
    "check = []\n",
    "for idx in range(len(num)-1):\n",
    "    check.append(num[idx]-num[idx+1])\n",
    "count = sum(list(map(lambda x: x>0, check)))\n",
    "if count==0:\n",
    "    print('오름차순')\n",
    "elif count<(n-1):\n",
    "    print('섞임')\n",
    "else:\n",
    "    print('내림차순')"
   ]
  },
  {
   "cell_type": "markdown",
   "id": "cd1c1415",
   "metadata": {},
   "source": [
    "# 2008 : 오름차순 내림차순 2"
   ]
  },
  {
   "cell_type": "code",
   "execution_count": 175,
   "id": "704647f5",
   "metadata": {},
   "outputs": [
    {
     "name": "stdout",
     "output_type": "stream",
     "text": [
      "2\n",
      "100 200\n",
      "오름차순\n"
     ]
    }
   ],
   "source": [
    "n = int(input())\n",
    "num = list(map(int, input().split()))\n",
    "\n",
    "check = []\n",
    "for idx in range(len(num)-1):\n",
    "    if num[idx+1]-num[idx]<0:\n",
    "        check.append('음수')\n",
    "    elif num[idx+1]-num[idx]>0:\n",
    "        check.append('양수')\n",
    "    else:\n",
    "        check.append('동일')\n",
    "        \n",
    "if (len(list(set(check)))>=2)&('양수' in list(set(check)))&('음수' not in list(set(check))):\n",
    "    print('오름차순')\n",
    "elif (len(list(set(check)))==1)&('양수' in list(set(check))):\n",
    "    print('오름차순')\n",
    "elif (len(list(set(check)))>=2)&('양수' not in list(set(check)))&('음수' in list(set(check))):\n",
    "    print('내림차순')\n",
    "elif (len(list(set(check)))==1)&('음수' in list(set(check))):\n",
    "    print('내림차순')\n",
    "else:\n",
    "    print('섞임')"
   ]
  },
  {
   "cell_type": "markdown",
   "id": "14a2bdbb",
   "metadata": {},
   "source": [
    "# 2009: 아메리카노"
   ]
  },
  {
   "cell_type": "code",
   "execution_count": 70,
   "id": "3cc67203",
   "metadata": {},
   "outputs": [
    {
     "name": "stdout",
     "output_type": "stream",
     "text": [
      "10 3\n",
      "4\n"
     ]
    }
   ],
   "source": [
    "k,n = map(int, input().split())\n",
    "drink = 0\n",
    "while k>n-1:\n",
    "    k = k-n+1\n",
    "    drink+=1\n",
    "print(drink)"
   ]
  },
  {
   "cell_type": "markdown",
   "id": "2bca7133",
   "metadata": {},
   "source": [
    "# 2016 : 천단위 구분기호"
   ]
  },
  {
   "cell_type": "code",
   "execution_count": 134,
   "id": "a6c3d0fa",
   "metadata": {},
   "outputs": [
    {
     "name": "stdout",
     "output_type": "stream",
     "text": [
      "12,421,421\n"
     ]
    }
   ],
   "source": [
    "n = int(input())\n",
    "num = int(input())\n",
    "print(format(num, ','))"
   ]
  },
  {
   "cell_type": "markdown",
   "id": "8ad79ea8",
   "metadata": {},
   "source": [
    "# 2033 : 사다리 게임 **"
   ]
  },
  {
   "cell_type": "code",
   "execution_count": 139,
   "id": "e1fc7b80",
   "metadata": {},
   "outputs": [
    {
     "name": "stdout",
     "output_type": "stream",
     "text": [
      "3 2\n",
      "1 2\n",
      "2 3\n"
     ]
    }
   ],
   "source": [
    "k, n = map(int, input().split())\n",
    "i=1\n",
    "start = []\n",
    "end = []\n",
    "while i<=n:\n",
    "    word = input().split()\n",
    "    start.append(int(word[0]))\n",
    "    end.append(int(word[1]))\n",
    "    i+=1"
   ]
  }
 ],
 "metadata": {
  "kernelspec": {
   "display_name": "torch-gpu",
   "language": "python",
   "name": "torch-gpu"
  },
  "language_info": {
   "codemirror_mode": {
    "name": "ipython",
    "version": 3
   },
   "file_extension": ".py",
   "mimetype": "text/x-python",
   "name": "python",
   "nbconvert_exporter": "python",
   "pygments_lexer": "ipython3",
   "version": "3.7.11"
  },
  "toc": {
   "base_numbering": 1,
   "nav_menu": {},
   "number_sections": true,
   "sideBar": true,
   "skip_h1_title": false,
   "title_cell": "Table of Contents",
   "title_sidebar": "Contents",
   "toc_cell": true,
   "toc_position": {},
   "toc_section_display": true,
   "toc_window_display": false
  }
 },
 "nbformat": 4,
 "nbformat_minor": 5
}
