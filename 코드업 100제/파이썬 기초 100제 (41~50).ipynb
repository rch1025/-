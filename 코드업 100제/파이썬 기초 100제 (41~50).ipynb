{
 "cells": [
  {
   "cell_type": "markdown",
   "id": "2937dca2",
   "metadata": {
    "toc": true
   },
   "source": [
    "<h1>Table of Contents<span class=\"tocSkip\"></span></h1>\n",
    "<div class=\"toc\"><ul class=\"toc-item\"></ul></div>"
   ]
  },
  {
   "cell_type": "code",
   "execution_count": 3,
   "id": "bf501801",
   "metadata": {},
   "outputs": [
    {
     "name": "stdout",
     "output_type": "stream",
     "text": [
      "4 3\n",
      "1\n"
     ]
    }
   ],
   "source": [
    "## 41번\n",
    "a,b = input().split()\n",
    "print(int(a)%int(b))"
   ]
  },
  {
   "cell_type": "code",
   "execution_count": 6,
   "id": "a8d4fa2a",
   "metadata": {},
   "outputs": [
    {
     "name": "stdout",
     "output_type": "stream",
     "text": [
      "3.21456485\n",
      "3.21\n"
     ]
    }
   ],
   "source": [
    "## 42번\n",
    "num = float(input())\n",
    "print(round(num, 2))"
   ]
  },
  {
   "cell_type": "code",
   "execution_count": 24,
   "id": "371b00f7",
   "metadata": {},
   "outputs": [
    {
     "name": "stdout",
     "output_type": "stream",
     "text": [
      "10.0 0.0001\n",
      "100000.000\n"
     ]
    }
   ],
   "source": [
    "## 43번\n",
    "a, b = input().split()\n",
    "print(\"{0:.3f}\".format(float(a)/float(b)))"
   ]
  },
  {
   "cell_type": "code",
   "execution_count": 27,
   "id": "db88805c",
   "metadata": {},
   "outputs": [
    {
     "name": "stdout",
     "output_type": "stream",
     "text": [
      "10 3\n",
      "13\n",
      "7\n",
      "30\n",
      "3\n",
      "1\n",
      "3.33\n"
     ]
    }
   ],
   "source": [
    "## 44번\n",
    "a, b = input().split()\n",
    "a = int(a); b = int(b)\n",
    "print(a+b)\n",
    "print(a-b)\n",
    "print(a*b)\n",
    "print(a//b)\n",
    "print(a%b)\n",
    "print(round(a/b,2))"
   ]
  },
  {
   "cell_type": "code",
   "execution_count": 31,
   "id": "f7de7c50",
   "metadata": {},
   "outputs": [
    {
     "name": "stdout",
     "output_type": "stream",
     "text": [
      "1 2 3\n",
      "6 2.00\n"
     ]
    }
   ],
   "source": [
    "## 45번\n",
    "a, b, c = input().split()\n",
    "a = int(a); b = int(b); c=int(c)\n",
    "print(a+b+c, \"{0:.2f}\".format((a+b+c)/3))"
   ]
  },
  {
   "cell_type": "code",
   "execution_count": 32,
   "id": "ae457392",
   "metadata": {},
   "outputs": [
    {
     "name": "stdout",
     "output_type": "stream",
     "text": [
      "1024\n",
      "2048\n"
     ]
    }
   ],
   "source": [
    "## 46번\n",
    "num = int(input())\n",
    "print(num*2)"
   ]
  },
  {
   "cell_type": "code",
   "execution_count": 34,
   "id": "2c92e260",
   "metadata": {},
   "outputs": [
    {
     "name": "stdout",
     "output_type": "stream",
     "text": [
      "1 3\n",
      "8\n"
     ]
    }
   ],
   "source": [
    "## 47번\n",
    "a, b = input().split()\n",
    "a = int(a);b= int(b)\n",
    "print(a*2**b)"
   ]
  },
  {
   "cell_type": "code",
   "execution_count": 35,
   "id": "1ee08329",
   "metadata": {},
   "outputs": [
    {
     "name": "stdout",
     "output_type": "stream",
     "text": [
      "1 9\n",
      "True\n"
     ]
    }
   ],
   "source": [
    "## 48번\n",
    "a, b = input().split()\n",
    "a = int(a);b= int(b)\n",
    "print(a<b)"
   ]
  },
  {
   "cell_type": "code",
   "execution_count": 36,
   "id": "7aa251ea",
   "metadata": {},
   "outputs": [
    {
     "name": "stdout",
     "output_type": "stream",
     "text": [
      "0 0\n",
      "True\n"
     ]
    }
   ],
   "source": [
    "## 49번\n",
    "a, b = input().split()\n",
    "a = int(a);b= int(b)\n",
    "print(a==b)"
   ]
  },
  {
   "cell_type": "code",
   "execution_count": 40,
   "id": "9c5f71c3",
   "metadata": {},
   "outputs": [
    {
     "name": "stdout",
     "output_type": "stream",
     "text": [
      "0 0\n",
      "True\n"
     ]
    }
   ],
   "source": [
    "## 50번\n",
    "a, b = input().split()\n",
    "a = int(a);b= int(b)\n",
    "print(a<=b)"
   ]
  }
 ],
 "metadata": {
  "kernelspec": {
   "display_name": "torch-gpu",
   "language": "python",
   "name": "torch-gpu"
  },
  "language_info": {
   "codemirror_mode": {
    "name": "ipython",
    "version": 3
   },
   "file_extension": ".py",
   "mimetype": "text/x-python",
   "name": "python",
   "nbconvert_exporter": "python",
   "pygments_lexer": "ipython3",
   "version": "3.7.11"
  },
  "toc": {
   "base_numbering": 1,
   "nav_menu": {},
   "number_sections": true,
   "sideBar": true,
   "skip_h1_title": false,
   "title_cell": "Table of Contents",
   "title_sidebar": "Contents",
   "toc_cell": true,
   "toc_position": {},
   "toc_section_display": true,
   "toc_window_display": false
  }
 },
 "nbformat": 4,
 "nbformat_minor": 5
}
