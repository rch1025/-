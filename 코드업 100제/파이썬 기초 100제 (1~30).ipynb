{
 "cells": [
  {
   "cell_type": "markdown",
   "id": "da70edef",
   "metadata": {},
   "source": [
    "# 파이썬 기초 100제 (1~30)"
   ]
  },
  {
   "cell_type": "code",
   "execution_count": null,
   "id": "bd794f35",
   "metadata": {},
   "outputs": [],
   "source": []
  },
  {
   "cell_type": "code",
   "execution_count": 1,
   "id": "4f9c42de",
   "metadata": {},
   "outputs": [
    {
     "name": "stdout",
     "output_type": "stream",
     "text": [
      "3\n",
      "3.0\n",
      "3.0\n",
      "3.0\n"
     ]
    }
   ],
   "source": [
    "\"\"\"15번\"\"\"\n",
    "a = float(input())\n",
    "i=0\n",
    "while i<3:\n",
    "    print(a)\n",
    "    i+=1"
   ]
  },
  {
   "cell_type": "code",
   "execution_count": 2,
   "id": "1ae2fdb9",
   "metadata": {},
   "outputs": [
    {
     "name": "stdout",
     "output_type": "stream",
     "text": [
      "a f\n",
      "f a\n"
     ]
    }
   ],
   "source": [
    "## 16번\n",
    "word, word2 = input().split()\n",
    "print(word2, word)"
   ]
  },
  {
   "cell_type": "code",
   "execution_count": 6,
   "id": "f51515ce",
   "metadata": {},
   "outputs": [
    {
     "name": "stdout",
     "output_type": "stream",
     "text": [
      "a v\n",
      "a v a v a v \n"
     ]
    }
   ],
   "source": [
    "## 17번\n",
    "in_ = input()\n",
    "print((in_+' ')*3)"
   ]
  },
  {
   "cell_type": "code",
   "execution_count": 7,
   "id": "110656bf",
   "metadata": {},
   "outputs": [
    {
     "name": "stdout",
     "output_type": "stream",
     "text": [
      "3:15\n",
      "3:15\n"
     ]
    }
   ],
   "source": [
    "## 18번\n",
    "# time, min_ = input().split(':')\n",
    "# print(time+':'+min_)\n",
    "\n",
    "time, min_ = input().split(':')\n",
    "print(time, min_, sep=':')"
   ]
  },
  {
   "cell_type": "code",
   "execution_count": 9,
   "id": "52a4c7f9",
   "metadata": {},
   "outputs": [
    {
     "name": "stdout",
     "output_type": "stream",
     "text": [
      "2020.3.4\n",
      "4-3-2020\n"
     ]
    }
   ],
   "source": [
    "## 19번\n",
    "y, m, d = input().split('.')\n",
    "print(d,m,y, sep='-')"
   ]
  },
  {
   "cell_type": "code",
   "execution_count": 10,
   "id": "8a979fd1",
   "metadata": {},
   "outputs": [
    {
     "name": "stdout",
     "output_type": "stream",
     "text": [
      "000907-1121112\n",
      "0009071121112\n"
     ]
    }
   ],
   "source": [
    "## 20번\n",
    "num = input()\n",
    "print(num.replace('-', ''))"
   ]
  },
  {
   "cell_type": "code",
   "execution_count": 11,
   "id": "b0b65069",
   "metadata": {},
   "outputs": [
    {
     "name": "stdout",
     "output_type": "stream",
     "text": [
      "HELLO\n",
      "H\n",
      "E\n",
      "L\n",
      "L\n",
      "O\n"
     ]
    }
   ],
   "source": [
    "## 21번\n",
    "word = input()\n",
    "i=0\n",
    "while i<len(word):\n",
    "    print(word[i] )\n",
    "    i+=1"
   ]
  },
  {
   "cell_type": "code",
   "execution_count": 13,
   "id": "9ae7149b",
   "metadata": {},
   "outputs": [
    {
     "name": "stdout",
     "output_type": "stream",
     "text": [
      "223344\n",
      "22 33 44\n"
     ]
    }
   ],
   "source": [
    "## 22번\n",
    "ymd = input()\n",
    "print(ymd[:2], ymd[2:4], ymd[4:])"
   ]
  },
  {
   "cell_type": "code",
   "execution_count": 15,
   "id": "abe0b67e",
   "metadata": {},
   "outputs": [
    {
     "name": "stdout",
     "output_type": "stream",
     "text": [
      "22:44:56\n",
      "44\n"
     ]
    }
   ],
   "source": [
    "## 23번\n",
    "time = input().split(':')\n",
    "print(time[1])"
   ]
  },
  {
   "cell_type": "code",
   "execution_count": 20,
   "id": "31f82b03",
   "metadata": {},
   "outputs": [
    {
     "name": "stdout",
     "output_type": "stream",
     "text": [
      "34 ff\n",
      "34ff\n"
     ]
    }
   ],
   "source": [
    "## 24번\n",
    "alpha, num = input().split()\n",
    "print(alpha+num)"
   ]
  },
  {
   "cell_type": "code",
   "execution_count": 22,
   "id": "8283f0e7",
   "metadata": {},
   "outputs": [
    {
     "name": "stdout",
     "output_type": "stream",
     "text": [
      "123 -123\n",
      "0\n"
     ]
    }
   ],
   "source": [
    "## 25번\n",
    "a, b = input().split()\n",
    "print(int(a)+int(b))"
   ]
  },
  {
   "cell_type": "code",
   "execution_count": 24,
   "id": "d21ba957",
   "metadata": {},
   "outputs": [
    {
     "name": "stdout",
     "output_type": "stream",
     "text": [
      "2.0\n",
      "3.0\n",
      "5.0\n"
     ]
    }
   ],
   "source": [
    "## 26\n",
    "a = input()\n",
    "b= input()\n",
    "print(float(a)+float(b))"
   ]
  },
  {
   "cell_type": "code",
   "execution_count": 27,
   "id": "39f75251",
   "metadata": {},
   "outputs": [
    {
     "name": "stdout",
     "output_type": "stream",
     "text": [
      "255\n",
      "ff\n"
     ]
    }
   ],
   "source": [
    "## 27번\n",
    "a = input()\n",
    "n = int(a)\n",
    "print('%x' %n)"
   ]
  },
  {
   "cell_type": "code",
   "execution_count": 28,
   "id": "ee9f6e0d",
   "metadata": {},
   "outputs": [
    {
     "name": "stdout",
     "output_type": "stream",
     "text": [
      "255\n",
      "FF\n"
     ]
    }
   ],
   "source": [
    "## 28번\n",
    "a = input()\n",
    "n = int(a)\n",
    "print('%X' %n)"
   ]
  },
  {
   "cell_type": "code",
   "execution_count": 32,
   "id": "cc83aa30",
   "metadata": {},
   "outputs": [
    {
     "name": "stdout",
     "output_type": "stream",
     "text": [
      "f\n",
      "17\n"
     ]
    }
   ],
   "source": [
    "## 29번\n",
    "a = input()\n",
    "n = int(a, 16)\n",
    "print('%o'%n)"
   ]
  },
  {
   "cell_type": "code",
   "execution_count": 33,
   "id": "40227f0c",
   "metadata": {},
   "outputs": [
    {
     "name": "stdout",
     "output_type": "stream",
     "text": [
      "A\n",
      "65\n"
     ]
    }
   ],
   "source": [
    "## 30번\n",
    "# n = ord(input())  #입력받은 문자를 10진수 유니코드 값으로 변환한 후, n에 저장한다.\n",
    "a = ord(input()) # ord( ) 는 어떤 문자의 순서 위치(ordinal position) 값을 의미한다.  \n",
    "print(a)"
   ]
  }
 ],
 "metadata": {
  "kernelspec": {
   "display_name": "torch-gpu",
   "language": "python",
   "name": "torch-gpu"
  },
  "language_info": {
   "codemirror_mode": {
    "name": "ipython",
    "version": 3
   },
   "file_extension": ".py",
   "mimetype": "text/x-python",
   "name": "python",
   "nbconvert_exporter": "python",
   "pygments_lexer": "ipython3",
   "version": "3.7.11"
  },
  "toc": {
   "base_numbering": 1,
   "nav_menu": {},
   "number_sections": true,
   "sideBar": true,
   "skip_h1_title": false,
   "title_cell": "Table of Contents",
   "title_sidebar": "Contents",
   "toc_cell": true,
   "toc_position": {},
   "toc_section_display": true,
   "toc_window_display": false
  }
 },
 "nbformat": 4,
 "nbformat_minor": 5
}
