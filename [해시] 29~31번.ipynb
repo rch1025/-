{
 "cells": [
  {
   "cell_type": "markdown",
   "id": "6c07063a",
   "metadata": {
    "toc": true
   },
   "source": [
    "<h1>Table of Contents<span class=\"tocSkip\"></span></h1>\n",
    "<div class=\"toc\"><ul class=\"toc-item\"><li><span><a href=\"#Q-29.-보석과-돌\" data-toc-modified-id=\"Q-29.-보석과-돌-1\"><span class=\"toc-item-num\">1&nbsp;&nbsp;</span>Q 29. 보석과 돌</a></span></li><li><span><a href=\"#Q-30-중복-문자-없는-가장-긴-부분-문자열\" data-toc-modified-id=\"Q-30-중복-문자-없는-가장-긴-부분-문자열-2\"><span class=\"toc-item-num\">2&nbsp;&nbsp;</span>Q 30 중복 문자 없는 가장 긴 부분 문자열</a></span></li><li><span><a href=\"#Q-31-상위-K-빈도-요소\" data-toc-modified-id=\"Q-31-상위-K-빈도-요소-3\"><span class=\"toc-item-num\">3&nbsp;&nbsp;</span>Q 31 상위 K 빈도 요소</a></span><ul class=\"toc-item\"><li><span><a href=\"#아래의-경우-이상함\" data-toc-modified-id=\"아래의-경우-이상함-3.1\"><span class=\"toc-item-num\">3.1&nbsp;&nbsp;</span>아래의 경우 이상함</a></span></li></ul></li></ul></div>"
   ]
  },
  {
   "cell_type": "markdown",
   "id": "2ec7d4d1",
   "metadata": {},
   "source": [
    "# Q 29. 보석과 돌\n",
    "https://leetcode.com/problems/jewels-and-stones/submissions/"
   ]
  },
  {
   "cell_type": "code",
   "execution_count": 3,
   "id": "b6fc5dc9",
   "metadata": {},
   "outputs": [
    {
     "data": {
      "text/plain": [
       "3"
      ]
     },
     "execution_count": 3,
     "metadata": {},
     "output_type": "execute_result"
    }
   ],
   "source": [
    "\"\"\"파이썬 다운 풀이 방식\"\"\"\n",
    "jewels = \"aA\"\n",
    "stones = \"aAAbbbb\"\n",
    "sum(s in jewels for s in stones)"
   ]
  },
  {
   "cell_type": "markdown",
   "id": "f06cc55f",
   "metadata": {},
   "source": [
    "# Q 30 중복 문자 없는 가장 긴 부분 문자열"
   ]
  },
  {
   "cell_type": "code",
   "execution_count": 60,
   "id": "2059acff",
   "metadata": {},
   "outputs": [
    {
     "name": "stdout",
     "output_type": "stream",
     "text": [
      "3\n"
     ]
    }
   ],
   "source": [
    "s = \"abcabcbb\"\n",
    "used={}\n",
    "max_length = start = 0\n",
    "for index, char in enumerate(s):\n",
    "    # 이미 등장했던 문자라면 'start' 위치 갱신\n",
    "    if char in used and start <= used[char]:\n",
    "        start = used[char] + 1\n",
    "    else:\n",
    "        max_length = max(max_length, index - start + 1)\n",
    "    \n",
    "    # 현재 문자의 위치 삽입\n",
    "    used[char] = index\n",
    "print(max_length)"
   ]
  },
  {
   "cell_type": "markdown",
   "id": "2c3075f7",
   "metadata": {},
   "source": [
    "# Q 31 상위 K 빈도 요소\n",
    "- 문제가 잘못된 듯?"
   ]
  },
  {
   "cell_type": "code",
   "execution_count": 52,
   "id": "df51b723",
   "metadata": {},
   "outputs": [],
   "source": [
    "nums = [1,1,1,2,2,3]\n",
    "k = 2"
   ]
  },
  {
   "cell_type": "code",
   "execution_count": 48,
   "id": "bee042e2",
   "metadata": {},
   "outputs": [
    {
     "data": {
      "text/plain": [
       "[1]"
      ]
     },
     "execution_count": 48,
     "metadata": {},
     "output_type": "execute_result"
    }
   ],
   "source": [
    "dict1 = {}\n",
    "for n in nums:\n",
    "    if n not in dict1.keys():\n",
    "        dict1[n] = 1\n",
    "    else:\n",
    "        dict1[n] += 1\n",
    "[key for key, value in dict1.items() if value>=k]"
   ]
  },
  {
   "cell_type": "markdown",
   "id": "e904ec6e",
   "metadata": {},
   "source": [
    "## 아래의 경우 이상함\n"
   ]
  },
  {
   "cell_type": "code",
   "execution_count": 55,
   "id": "319dba63",
   "metadata": {},
   "outputs": [],
   "source": [
    "nums = [1,2]\n",
    "k = 2"
   ]
  },
  {
   "cell_type": "code",
   "execution_count": 54,
   "id": "0a857960",
   "metadata": {},
   "outputs": [
    {
     "data": {
      "text/plain": [
       "[(1,), (3,)]"
      ]
     },
     "execution_count": 54,
     "metadata": {},
     "output_type": "execute_result"
    }
   ],
   "source": [
    "import collections\n",
    "list(zip(*collections.Counter(nums).most_common(1)))"
   ]
  }
 ],
 "metadata": {
  "kernelspec": {
   "display_name": "torch-gpu",
   "language": "python",
   "name": "torch-gpu"
  },
  "language_info": {
   "codemirror_mode": {
    "name": "ipython",
    "version": 3
   },
   "file_extension": ".py",
   "mimetype": "text/x-python",
   "name": "python",
   "nbconvert_exporter": "python",
   "pygments_lexer": "ipython3",
   "version": "3.7.11"
  },
  "toc": {
   "base_numbering": 1,
   "nav_menu": {},
   "number_sections": true,
   "sideBar": true,
   "skip_h1_title": false,
   "title_cell": "Table of Contents",
   "title_sidebar": "Contents",
   "toc_cell": true,
   "toc_position": {},
   "toc_section_display": true,
   "toc_window_display": false
  }
 },
 "nbformat": 4,
 "nbformat_minor": 5
}
