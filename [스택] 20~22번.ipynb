{
 "cells": [
  {
   "cell_type": "markdown",
   "id": "dc8a02b9",
   "metadata": {},
   "source": [
    "# 스택 20번"
   ]
  },
  {
   "cell_type": "code",
   "execution_count": 145,
   "id": "cc839d95",
   "metadata": {},
   "outputs": [],
   "source": [
    "stack = []\n",
    "table = {\n",
    "    ')':'(',\n",
    "    '}':'{',\n",
    "    ']':'['\n",
    "}\n",
    "\n",
    "s = '()[]{}'"
   ]
  },
  {
   "cell_type": "code",
   "execution_count": 146,
   "id": "5c6ac6ff",
   "metadata": {},
   "outputs": [],
   "source": [
    "def isValid(s):\n",
    "    for char in s:\n",
    "        if char not in table:\n",
    "            stack.append(char)\n",
    "        # 대칭 모양이 같으면 elif문 통과 안 함\n",
    "        elif table[char] == stack.pop():\n",
    "            pass\n",
    "        else:\n",
    "            return False\n",
    "    return True"
   ]
  },
  {
   "cell_type": "code",
   "execution_count": 147,
   "id": "23e9e6b2",
   "metadata": {},
   "outputs": [
    {
     "data": {
      "text/plain": [
       "True"
      ]
     },
     "execution_count": 147,
     "metadata": {},
     "output_type": "execute_result"
    }
   ],
   "source": [
    "isValid(s)"
   ]
  },
  {
   "cell_type": "markdown",
   "id": "db540166",
   "metadata": {},
   "source": [
    "# 스택 22번\n",
    "- Time Error"
   ]
  },
  {
   "cell_type": "code",
   "execution_count": 151,
   "id": "ff80fb63",
   "metadata": {},
   "outputs": [
    {
     "data": {
      "text/plain": [
       "[3, 1, 1, 2, 1, 1, 0, 1, 1, 0]"
      ]
     },
     "execution_count": 151,
     "metadata": {},
     "output_type": "execute_result"
    }
   ],
   "source": [
    "temperatures = [55,38,53,81,61,93,97,32,43,78]\n",
    "stack = []\n",
    "\n",
    "while len(temperatures)>0:\n",
    "    theday = temperatures.pop(0)\n",
    "    for i, temp in enumerate(temperatures):\n",
    "        ex = temp-theday\n",
    "        ex_temp = []\n",
    "        if ex>0:\n",
    "            stack.append(i+1)\n",
    "            break\n",
    "        else:\n",
    "            ex_temp.append(0)\n",
    "    if (len(ex_temp)==1)|(len(temperatures)==0):\n",
    "        stack.append(0)\n",
    "stack"
   ]
  },
  {
   "cell_type": "code",
   "execution_count": 143,
   "id": "aa88e532",
   "metadata": {},
   "outputs": [
    {
     "name": "stdout",
     "output_type": "stream",
     "text": [
      "before : []\n",
      "theday : 55\n",
      "[38, 53, 81, 61, 93, 97, 32, 43, 78]\n",
      "-17\n",
      "-2\n",
      "26\n",
      "later : [3]\n",
      "###########################\n",
      "\n",
      "before : [3]\n",
      "theday : 38\n",
      "[53, 81, 61, 93, 97, 32, 43, 78]\n",
      "15\n",
      "later : [3, 1]\n",
      "###########################\n",
      "\n",
      "before : [3, 1]\n",
      "theday : 53\n",
      "[81, 61, 93, 97, 32, 43, 78]\n",
      "28\n",
      "later : [3, 1, 1]\n",
      "###########################\n",
      "\n",
      "before : [3, 1, 1]\n",
      "theday : 81\n",
      "[61, 93, 97, 32, 43, 78]\n",
      "-20\n",
      "12\n",
      "later : [3, 1, 1, 2]\n",
      "###########################\n",
      "\n",
      "before : [3, 1, 1, 2]\n",
      "theday : 61\n",
      "[93, 97, 32, 43, 78]\n",
      "32\n",
      "later : [3, 1, 1, 2, 1]\n",
      "###########################\n",
      "\n",
      "before : [3, 1, 1, 2, 1]\n",
      "theday : 93\n",
      "[97, 32, 43, 78]\n",
      "4\n",
      "later : [3, 1, 1, 2, 1, 1]\n",
      "###########################\n",
      "\n",
      "before : [3, 1, 1, 2, 1, 1]\n",
      "theday : 97\n",
      "[32, 43, 78]\n",
      "-65\n",
      "ex_temp : 1\n",
      "T : 3\n",
      "-54\n",
      "ex_temp : 1\n",
      "T : 3\n",
      "-19\n",
      "ex_temp : 1\n",
      "T : 3\n",
      "###########################\n",
      "\n",
      "before : [3, 1, 1, 2, 1, 1, 0]\n",
      "theday : 32\n",
      "[43, 78]\n",
      "11\n",
      "later : [3, 1, 1, 2, 1, 1, 0, 1]\n",
      "###########################\n",
      "\n",
      "before : [3, 1, 1, 2, 1, 1, 0, 1]\n",
      "theday : 43\n",
      "[78]\n",
      "35\n",
      "later : [3, 1, 1, 2, 1, 1, 0, 1, 1]\n",
      "###########################\n",
      "\n",
      "before : [3, 1, 1, 2, 1, 1, 0, 1, 1]\n",
      "theday : 78\n",
      "[]\n",
      "###########################\n",
      "\n"
     ]
    }
   ],
   "source": [
    "## 연습용\n",
    "T = [55,38,53,81,61,93,97,32,43,78]\n",
    "stack = []\n",
    "\n",
    "while len(T)>0:\n",
    "    theday = T.pop(0)\n",
    "    print('before :', stack)\n",
    "    print('theday :', theday)\n",
    "    print(T)\n",
    "    for i, temp in enumerate(T):\n",
    "        ex = temp-theday\n",
    "        print(ex)\n",
    "        ex_temp = []\n",
    "        if ex>0:\n",
    "            stack.append(i+1)\n",
    "            print('later :', stack)\n",
    "            print('###########################')\n",
    "            print()\n",
    "            break\n",
    "        else:\n",
    "            if theday==97:\n",
    "                ex_temp.append(0)\n",
    "                print('ex_temp :', len(ex_temp))\n",
    "                print('T :', len(T))\n",
    "            else:\n",
    "                ex_temp.append(0)\n",
    "    if (len(ex_temp)==1)|(len(T)==0):\n",
    "        stack.append(0)\n",
    "        print('###########################')\n",
    "        print()"
   ]
  },
  {
   "cell_type": "code",
   "execution_count": 144,
   "id": "43d58329",
   "metadata": {},
   "outputs": [
    {
     "data": {
      "text/plain": [
       "[3, 1, 1, 2, 1, 1, 0, 1, 1, 0]"
      ]
     },
     "execution_count": 144,
     "metadata": {},
     "output_type": "execute_result"
    }
   ],
   "source": [
    "stack"
   ]
  }
 ],
 "metadata": {
  "kernelspec": {
   "display_name": "Python 3",
   "language": "python",
   "name": "python3"
  },
  "language_info": {
   "codemirror_mode": {
    "name": "ipython",
    "version": 3
   },
   "file_extension": ".py",
   "mimetype": "text/x-python",
   "name": "python",
   "nbconvert_exporter": "python",
   "pygments_lexer": "ipython3",
   "version": "3.8.8"
  }
 },
 "nbformat": 4,
 "nbformat_minor": 5
}
